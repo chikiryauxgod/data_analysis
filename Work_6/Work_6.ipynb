{
 "cells": [
  {
   "cell_type": "markdown",
   "id": "a1dc498e-64a5-4177-90a4-bc5b120389bb",
   "metadata": {},
   "source": [
    "## Упражнение № 1\n",
    "\n",
    "Создайте Series из каждого из элементов: списка, ndarray и словаря.\n",
    "\n",
    "Пример входных данных:\n",
    "\n",
    "```python\n",
    "import numpy as np\n",
    "mylist = list('abcedfghijklmnopqrstuvwxyz')\n",
    "myarr = np.arange(26)\n",
    "mydict = dict(zip(mylist, myarr))\n",
    "```"
   ]
  },
  {
   "cell_type": "code",
   "execution_count": 1,
   "id": "a5205f19-c2ef-4cf6-b578-c546edfd3125",
   "metadata": {},
   "outputs": [],
   "source": [
    "import numpy as np\n",
    "import pandas as pd\n",
    "\n",
    "mylist = list('abcedfghijklmnopqrstuvwxyz')\n",
    "myarr = np.arange(26)\n",
    "mydict = dict(zip(mylist, myarr))\n",
    "ser1 = pd.Series(mylist)\n",
    "ser2 = pd.Series(myarr)\n",
    "ser3 = pd.Series(mydict)"
   ]
  },
  {
   "cell_type": "markdown",
   "id": "749e2283-ca4c-4894-8b9a-e9f19d9e8682",
   "metadata": {},
   "source": [
    "## Упражнение № 2\n",
    "\n",
    "Преобразуйте `ser` в датафрейм с его индексом в качестве еще одного столбца датафрейма.\n",
    "\n",
    "Пример входных данных:\n",
    "\n",
    "```python\n",
    "import numpy as np\n",
    "mylist = list('abcedfghijklmnopqrstuvwxyz')\n",
    "myarr = np.arange(26)\n",
    "mydict = dict(zip(mylist, myarr))\n",
    "ser = pd.Series(mydict)\n",
    "```"
   ]
  },
  {
   "cell_type": "code",
   "execution_count": 15,
   "id": "c754cfe1-3f35-49f8-86e4-d1f7603c0535",
   "metadata": {},
   "outputs": [
    {
     "name": "stdout",
     "output_type": "stream",
     "text": [
      "   index  value\n",
      "0      a      0\n",
      "1      b      1\n",
      "2      c      2\n",
      "3      e      3\n",
      "4      d      4\n",
      "5      f      5\n",
      "6      g      6\n",
      "7      h      7\n",
      "8      i      8\n",
      "9      j      9\n",
      "10     k     10\n",
      "11     l     11\n",
      "12     m     12\n",
      "13     n     13\n",
      "14     o     14\n",
      "15     p     15\n",
      "16     q     16\n",
      "17     r     17\n",
      "18     s     18\n",
      "19     t     19\n",
      "20     u     20\n",
      "21     v     21\n",
      "22     w     22\n",
      "23     x     23\n",
      "24     y     24\n",
      "25     z     25\n"
     ]
    }
   ],
   "source": [
    "mylist = list('abcedfghijklmnopqrstuvwxyz')\n",
    "myarr = np.arange(26)\n",
    "mydict = dict(zip(mylist, myarr))\n",
    "ser = pd.Series(mydict)\n",
    "df = ser.reset_index()\n",
    "df.columns = ['index', 'value']\n",
    "print(df)\n"
   ]
  },
  {
   "cell_type": "markdown",
   "id": "c2d92af7-bbed-4c5b-bf00-c8fef0d2fcaf",
   "metadata": {},
   "source": [
    "## Упражнение № 3\n",
    "\n",
    "Объедините `ser1` и `ser2`, чтобы сформировать датафрейм.\n",
    "\n",
    "Пример входных данных:\n",
    "\n",
    "```python\n",
    "import numpy as np\n",
    "mylist = list('abcedfghijklmnopqrstuvwxyz')\n",
    "myarr = np.arange(26)\n",
    "mydict = dict(zip(mylist, myarr))\n",
    "```\n"
   ]
  },
  {
   "cell_type": "code",
   "execution_count": 16,
   "id": "27acb51f-17e4-43e3-9064-533041ed8edd",
   "metadata": {},
   "outputs": [
    {
     "name": "stdout",
     "output_type": "stream",
     "text": [
      "   Column1  Column2\n",
      "0        a        0\n",
      "1        b        1\n",
      "2        c        2\n",
      "3        e        3\n",
      "4        d        4\n",
      "5        f        5\n",
      "6        g        6\n",
      "7        h        7\n",
      "8        i        8\n",
      "9        j        9\n",
      "10       k       10\n",
      "11       l       11\n",
      "12       m       12\n",
      "13       n       13\n",
      "14       o       14\n",
      "15       p       15\n",
      "16       q       16\n",
      "17       r       17\n",
      "18       s       18\n",
      "19       t       19\n",
      "20       u       20\n",
      "21       v       21\n",
      "22       w       22\n",
      "23       x       23\n",
      "24       y       24\n",
      "25       z       25\n"
     ]
    }
   ],
   "source": [
    "mylist = list('abcedfghijklmnopqrstuvwxyz')\n",
    "myarr = np.arange(26)\n",
    "mydict = dict(zip(mylist, myarr))\n",
    "\n",
    "ser1 = pd.Series(list(mydict.keys()))\n",
    "ser2 = pd.Series(list(mydict.values()))\n",
    "\n",
    "df = pd.DataFrame({'Column1': ser1, 'Column2': ser2})\n",
    "print(df)\n"
   ]
  },
  {
   "cell_type": "markdown",
   "id": "a310f63f-d1e4-4352-a169-15de77646b33",
   "metadata": {},
   "source": [
    "## Упражнение № 4\n",
    "\n",
    "Добавьте имя ряда  `ser`, назвав его `latin_letters`.\n",
    "\n",
    "Пример входных данных:\n",
    "\n",
    "```python\n",
    "ser = pd.Series(list('abcedfghijklmnopqrstuvwxyz'))\n",
    "```"
   ]
  },
  {
   "cell_type": "code",
   "execution_count": 17,
   "id": "f1c7356d-e623-4e8a-88a2-225457ade401",
   "metadata": {},
   "outputs": [
    {
     "name": "stdout",
     "output_type": "stream",
     "text": [
      "0     a\n",
      "1     b\n",
      "2     c\n",
      "3     e\n",
      "4     d\n",
      "5     f\n",
      "6     g\n",
      "7     h\n",
      "8     i\n",
      "9     j\n",
      "10    k\n",
      "11    l\n",
      "12    m\n",
      "13    n\n",
      "14    o\n",
      "15    p\n",
      "16    q\n",
      "17    r\n",
      "18    s\n",
      "19    t\n",
      "20    u\n",
      "21    v\n",
      "22    w\n",
      "23    x\n",
      "24    y\n",
      "25    z\n",
      "Name: latin_letters, dtype: object\n"
     ]
    }
   ],
   "source": [
    "ser = pd.Series(list('abcedfghijklmnopqrstuvwxyz'))\n",
    "ser.name = 'latin_letters'\n",
    "print(ser)\n"
   ]
  },
  {
   "cell_type": "markdown",
   "id": "58fc7723-827d-489f-849a-5eb1af9d50d4",
   "metadata": {},
   "source": [
    "## Упражнение № 5\n",
    "\n",
    "Из `ser1` удалите элементы, присутствующие в `ser2`.\n",
    "\n",
    "```python\n",
    "ser1 = pd.Series([1, 2, 3, 4, 5])\n",
    "ser2 = pd.Series([4, 5, 6, 7, 8])\n",
    "```"
   ]
  },
  {
   "cell_type": "code",
   "execution_count": 18,
   "id": "5c729de8-7813-429b-90b9-5ba0e1a8f0ca",
   "metadata": {},
   "outputs": [
    {
     "name": "stdout",
     "output_type": "stream",
     "text": [
      "0    1\n",
      "1    2\n",
      "2    3\n",
      "dtype: int64\n"
     ]
    }
   ],
   "source": [
    "ser1 = pd.Series([1, 2, 3, 4, 5])\n",
    "ser2 = pd.Series([4, 5, 6, 7, 8])\n",
    "\n",
    "result = ser1[~ser1.isin(ser2)]\n",
    "print(result)\n"
   ]
  },
  {
   "cell_type": "markdown",
   "id": "b8f6927f-6756-438c-ae82-4067441db07c",
   "metadata": {},
   "source": [
    "## Упражнение № 6\n",
    "\n",
    "Получить все элементы `ser1` и `ser2`, которые не являются общими для обоих рядов.\n",
    "\n",
    "Пример входных данных:\n",
    "\n",
    "```python\n",
    "ser1 = pd.Series([1, 2, 3, 4, 5])\n",
    "ser2 = pd.Series([4, 5, 6, 7, 8])\n",
    "```"
   ]
  },
  {
   "cell_type": "code",
   "execution_count": 19,
   "id": "bd98f72c-da6f-4d07-aee9-babc6b858469",
   "metadata": {},
   "outputs": [
    {
     "name": "stdout",
     "output_type": "stream",
     "text": [
      "0    1\n",
      "1    2\n",
      "2    3\n",
      "2    6\n",
      "3    7\n",
      "4    8\n",
      "dtype: int64\n"
     ]
    }
   ],
   "source": [
    "ser1 = pd.Series([1, 2, 3, 4, 5])\n",
    "ser2 = pd.Series([4, 5, 6, 7, 8])\n",
    "\n",
    "result = pd.concat([ser1[~ser1.isin(ser2)], ser2[~ser2.isin(ser1)]])\n",
    "print(result)\n"
   ]
  },
  {
   "cell_type": "markdown",
   "id": "a15216cc-c9ee-46aa-bcf3-7255697d901f",
   "metadata": {},
   "source": [
    "## Упражнение № 7\n",
    "\n",
    "Вычислите минимальное значение, 25-й процентиль, медиану, 75-й процентиль и максимальное значение `ser`.\n",
    "\n",
    "Пример входных данных:\n",
    "\n",
    "```python\n",
    "ser = pd.Series(np.random.normal(10, 5, 25))\n",
    "```"
   ]
  },
  {
   "cell_type": "code",
   "execution_count": 20,
   "id": "dca12e2a-5791-475f-938b-2393678cbf3f",
   "metadata": {},
   "outputs": [
    {
     "name": "stdout",
     "output_type": "stream",
     "text": [
      "{'min': np.float64(-5.241086891297826), '25%': np.float64(7.4557769523683985), 'median': np.float64(10.371139230888538), '75%': np.float64(14.139366084695457), 'max': np.float64(18.227593451218677)}\n"
     ]
    }
   ],
   "source": [
    "ser = pd.Series(np.random.normal(10, 5, 25))\n",
    "\n",
    "statistics = {\n",
    "    \"min\": ser.min(),\n",
    "    \"25%\": ser.quantile(0.25),\n",
    "    \"median\": ser.median(),\n",
    "    \"75%\": ser.quantile(0.75),\n",
    "    \"max\": ser.max(),\n",
    "}\n",
    "\n",
    "print(statistics)\n"
   ]
  },
  {
   "cell_type": "markdown",
   "id": "065fe728-4bdb-4ac4-b215-09da0512a93d",
   "metadata": {},
   "source": [
    "## Упражнение № 8\n",
    "\n",
    "Вычислите частоту встречаемости каждого уникального значения `ser`.\n",
    "\n",
    "Пример входных данных:\n",
    "\n",
    "```python\n",
    "ser = pd.Series(np.take(list('abcdefgh'), np.random.randint(8, size=30)))\n",
    "```"
   ]
  },
  {
   "cell_type": "code",
   "execution_count": 21,
   "id": "d8297767-607a-41af-ae96-646447716545",
   "metadata": {},
   "outputs": [
    {
     "name": "stdout",
     "output_type": "stream",
     "text": [
      "h    7\n",
      "e    5\n",
      "a    4\n",
      "g    4\n",
      "d    4\n",
      "b    3\n",
      "c    2\n",
      "f    1\n",
      "Name: count, dtype: int64\n"
     ]
    }
   ],
   "source": [
    "ser = pd.Series(np.take(list('abcdefgh'), np.random.randint(8, size=30)))\n",
    "\n",
    "frequency = ser.value_counts()\n",
    "print(frequency)\n"
   ]
  },
  {
   "cell_type": "markdown",
   "id": "0a102d47-a614-4004-b673-d5967c3c3cb9",
   "metadata": {},
   "source": [
    "## Упражнение № 9\n",
    "\n",
    "Из `ser` оставить 2 наиболее часто встречающихся элемента без изменений, а все остальные заменить на `Прочее`.\n",
    "\n",
    "Пример входных данных:\n",
    "\n",
    "```python\n",
    "np.random.RandomState(100)\n",
    "ser = pd.Series(np.random.randint(1, 5, [12]))\n",
    "```"
   ]
  },
  {
   "cell_type": "code",
   "execution_count": 26,
   "id": "45b6a5aa-a5fc-4e7d-a1d2-adfbc234e859",
   "metadata": {},
   "outputs": [
    {
     "name": "stdout",
     "output_type": "stream",
     "text": [
      "0          4\n",
      "1          2\n",
      "2     Прочее\n",
      "3     Прочее\n",
      "4          4\n",
      "5          4\n",
      "6          4\n",
      "7     Прочее\n",
      "8     Прочее\n",
      "9          2\n",
      "10         2\n",
      "11    Прочее\n",
      "dtype: object\n"
     ]
    },
    {
     "name": "stderr",
     "output_type": "stream",
     "text": [
      "C:\\Users\\lewac\\AppData\\Local\\Temp\\ipykernel_18536\\3962796178.py:5: FutureWarning: Setting an item of incompatible dtype is deprecated and will raise an error in a future version of pandas. Value 'Прочее' has dtype incompatible with int32, please explicitly cast to a compatible dtype first.\n",
      "  ser[~ser.isin(top_two)] = 'Прочее'\n"
     ]
    }
   ],
   "source": [
    "np.random.RandomState(100)\n",
    "ser = pd.Series(np.random.randint(1, 5, [12]))\n",
    "\n",
    "top_two = ser.value_counts().index[:2]\n",
    "ser[~ser.isin(top_two)] = 'Прочее'\n",
    "print(ser)"
   ]
  },
  {
   "cell_type": "markdown",
   "id": "2be9f41b-00f7-44de-a451-4ca2e5cae6ba",
   "metadata": {},
   "source": [
    "## Упражнение № 10\n",
    "\n",
    "Разбейте ряд `ser` на 10 равных децилей и замените значения на название дециля.\n",
    "\n",
    "Пример входных данных:\n",
    "\n",
    "```python\n",
    "ser = pd.Series(np.random.random(20))\n",
    "```\n",
    "\n",
    "Пример выходных данных:\n",
    "\n",
    "```python\n",
    "# First 5 items\n",
    "0    7th\n",
    "1    9th\n",
    "2    7th\n",
    "3    3rd\n",
    "4    8th\n",
    "dtype: category\n",
    "Categories (10, object): [1st < 2nd < 3rd < 4th ... 7th < 8th < 9th < 10th]\n",
    "```\n"
   ]
  },
  {
   "cell_type": "code",
   "execution_count": 27,
   "id": "7a27dc18-09b6-408d-861d-6f1d357dcf42",
   "metadata": {},
   "outputs": [
    {
     "name": "stdout",
     "output_type": "stream",
     "text": [
      "0      3th\n",
      "1      5th\n",
      "2      3th\n",
      "3      1th\n",
      "4      2th\n",
      "5      8th\n",
      "6      4th\n",
      "7     10th\n",
      "8      4th\n",
      "9      6th\n",
      "10     2th\n",
      "11    10th\n",
      "12     7th\n",
      "13     1th\n",
      "14     6th\n",
      "15     7th\n",
      "16     9th\n",
      "17     8th\n",
      "18     5th\n",
      "19     9th\n",
      "dtype: category\n",
      "Categories (10, object): ['1th' < '2th' < '3th' < '4th' ... '7th' < '8th' < '9th' < '10th']\n"
     ]
    }
   ],
   "source": [
    "ser = pd.Series(np.random.random(20))\n",
    "\n",
    "labels = ['{}th'.format(i) for i in range(1, 11)]\n",
    "ser_bins = pd.qcut(ser, 10, labels=labels)\n",
    "\n",
    "print(ser_bins)\n"
   ]
  },
  {
   "cell_type": "markdown",
   "id": "5e5846e3-1672-4759-8df6-fee8a2d0801c",
   "metadata": {},
   "source": [
    "## Упражнение № 11\n",
    "\n",
    "Переформируйте ряд `ser` в датафрейм с 7 строками и 5 столбцами\n",
    "\n",
    "Пример входных данных:\n",
    "\n",
    "```python\n",
    "ser = pd.Series(np.random.randint(1, 10, 35))\n",
    "```"
   ]
  },
  {
   "cell_type": "code",
   "execution_count": 28,
   "id": "7d8451e9-6def-4f21-8809-a4a5bde2908c",
   "metadata": {},
   "outputs": [
    {
     "name": "stdout",
     "output_type": "stream",
     "text": [
      "   0  1  2  3  4\n",
      "0  4  3  5  7  3\n",
      "1  8  4  8  5  9\n",
      "2  5  2  5  3  7\n",
      "3  8  1  3  2  7\n",
      "4  2  4  5  7  7\n",
      "5  3  2  6  1  2\n",
      "6  1  9  4  5  1\n"
     ]
    }
   ],
   "source": [
    "ser = pd.Series(np.random.randint(1, 10, 35))\n",
    "df = ser.values.reshape(7, 5)\n",
    "print(pd.DataFrame(df))\n"
   ]
  },
  {
   "cell_type": "markdown",
   "id": "ff87109d-f285-48e1-9c51-60ab9cbb2b56",
   "metadata": {},
   "source": [
    "## Упражнение № 12\n",
    "\n",
    "Найти позиции чисел, кратных 3, из ряда `ser`.\n",
    "\n",
    "Пример входных данных:\n",
    "\n",
    "```python\n",
    "ser = pd.Series(np.random.randint(1, 10, 7))\n",
    "```"
   ]
  },
  {
   "cell_type": "code",
   "execution_count": 31,
   "id": "c724fc24-e053-4799-bf5f-0e83146d3f61",
   "metadata": {},
   "outputs": [
    {
     "name": "stdout",
     "output_type": "stream",
     "text": [
      "[2, 3, 5]\n"
     ]
    }
   ],
   "source": [
    "ser = pd.Series(np.random.randint(1, 10, 7))\n",
    "positions = ser[ser % 3 == 0].index.tolist()\n",
    "print(positions)\n"
   ]
  },
  {
   "cell_type": "markdown",
   "id": "50d89953-35b1-443e-9801-c8caeb575431",
   "metadata": {},
   "source": [
    "## Упражнение № 13\n",
    "\n",
    "Из `ser` извлечь элементы, находящиеся на позициях в списке `pos`.\n",
    "\n",
    "Пример входных данных:\n",
    "\n",
    "```python\n",
    "ser = pd.Series(list('abcdefghijklmnopqrstuvwxyz'))\n",
    "pos = [0, 4, 8, 14, 20]\n",
    "```\n"
   ]
  },
  {
   "cell_type": "code",
   "execution_count": 32,
   "id": "945fc91a-41d6-49d7-bea6-fd4166ee6d92",
   "metadata": {},
   "outputs": [
    {
     "name": "stdout",
     "output_type": "stream",
     "text": [
      "0     a\n",
      "4     e\n",
      "8     i\n",
      "14    o\n",
      "20    u\n",
      "dtype: object\n"
     ]
    }
   ],
   "source": [
    "ser = pd.Series(list('abcdefghijklmnopqrstuvwxyz'))\n",
    "pos = [0, 4, 8, 14, 20]\n",
    "\n",
    "result = ser.iloc[pos]\n",
    "print(result)\n"
   ]
  },
  {
   "cell_type": "markdown",
   "id": "d7d8b221-9257-4521-adf3-5292f7b287ff",
   "metadata": {},
   "source": [
    "## Упражнение № 14\n",
    "\n",
    "Объедините `ser1` и `ser2` по вертикали и горизонтали (чтобы сформировать датафрейм).\n",
    "\n",
    "Пример входных данных:\n",
    "\n",
    "```python\n",
    "ser1 = pd.Series(range(5))\n",
    "ser2 = pd.Series(list('abcde'))\n",
    "```"
   ]
  },
  {
   "cell_type": "code",
   "execution_count": 33,
   "id": "0fd6afd8-3587-46d2-9608-67009666a0c6",
   "metadata": {},
   "outputs": [
    {
     "name": "stdout",
     "output_type": "stream",
     "text": [
      "Horizontal:\n",
      "   0  1\n",
      "0  0  a\n",
      "1  1  b\n",
      "2  2  c\n",
      "3  3  d\n",
      "4  4  e\n",
      "Vertical:\n",
      "0    0\n",
      "1    1\n",
      "2    2\n",
      "3    3\n",
      "4    4\n",
      "0    a\n",
      "1    b\n",
      "2    c\n",
      "3    d\n",
      "4    e\n",
      "dtype: object\n"
     ]
    }
   ],
   "source": [
    "ser1 = pd.Series(range(5))\n",
    "ser2 = pd.Series(list('abcde'))\n",
    "\n",
    "df_horizontal = pd.concat([ser1, ser2], axis=1)\n",
    "df_vertical = pd.concat([ser1, ser2], axis=0)\n",
    "\n",
    "print(\"Horizontal:\")\n",
    "print(df_horizontal)\n",
    "print(\"Vertical:\")\n",
    "print(df_vertical)"
   ]
  },
  {
   "cell_type": "markdown",
   "id": "6a228f4a-4ccf-45fb-b228-673e19b2d9a4",
   "metadata": {},
   "source": [
    "## Упражнение № 15\n",
    "\n",
    "Получите позиции элементов `ser2` в `ser1` в виде списка.\n",
    "\n",
    "Пример входных данных:\n",
    "\n",
    "```python\n",
    "ser1 = pd.Series([10, 9, 6, 5, 3, 1, 12, 8, 13])\n",
    "ser2 = pd.Series([1, 3, 10, 13])\n",
    "```"
   ]
  },
  {
   "cell_type": "code",
   "execution_count": 34,
   "id": "457a0c31-b3a4-42f1-9b6c-31178da66aa0",
   "metadata": {},
   "outputs": [
    {
     "name": "stdout",
     "output_type": "stream",
     "text": [
      "[np.int64(5), np.int64(4), np.int64(0), np.int64(8)]\n"
     ]
    }
   ],
   "source": [
    "ser1 = pd.Series([10, 9, 6, 5, 3, 1, 12, 8, 13])\n",
    "ser2 = pd.Series([1, 3, 10, 13])\n",
    "\n",
    "positions = [ser1[ser1 == value].index[0] for value in ser2]\n",
    "print(positions)\n"
   ]
  },
  {
   "cell_type": "markdown",
   "id": "0ac96f15-2d77-402b-bbf7-652c95c88aac",
   "metadata": {},
   "source": [
    "## Упражнение № 16\n",
    "\n",
    "Вычислить среднеквадратическую ошибку рядов `truth` и `pred`.\n",
    "\n",
    "Пример входных данных:\n",
    "\n",
    "```python\n",
    "truth = pd.Series(range(10))\n",
    "pred = pd.Series(range(10)) + np.random.random(10)\n",
    "```"
   ]
  },
  {
   "cell_type": "code",
   "execution_count": 35,
   "id": "475d9066-0cb8-4cc5-a4f2-72a672f4fd47",
   "metadata": {},
   "outputs": [
    {
     "name": "stdout",
     "output_type": "stream",
     "text": [
      "0.4322869950466016\n"
     ]
    }
   ],
   "source": [
    "truth = pd.Series(range(10))\n",
    "pred = pd.Series(range(10)) + np.random.random(10)\n",
    "\n",
    "mse = ((truth - pred) ** 2).mean()\n",
    "print(mse)"
   ]
  },
  {
   "cell_type": "markdown",
   "id": "f847f7c6-f9cc-4edf-a3c0-e7089899627d",
   "metadata": {},
   "source": [
    "## Упражнение № 17\n",
    "\n",
    "В каждом слове `ser` поставьте первый символ каждого слова в верхний регистр.\n",
    "\n",
    "```python\n",
    "ser = pd.Series(['how', 'to', 'kick', 'ass?'])\n",
    "```"
   ]
  },
  {
   "cell_type": "code",
   "execution_count": 36,
   "id": "87d33394-4aca-442e-8745-b7cf46bb1b02",
   "metadata": {},
   "outputs": [
    {
     "name": "stdout",
     "output_type": "stream",
     "text": [
      "0     How\n",
      "1      To\n",
      "2    Kick\n",
      "3    Ass?\n",
      "dtype: object\n"
     ]
    }
   ],
   "source": [
    "ser = pd.Series(['how', 'to', 'kick', 'ass?'])\n",
    "capitalized = ser.str.capitalize()\n",
    "print(capitalized)\n"
   ]
  },
  {
   "cell_type": "markdown",
   "id": "1c776382-2dd3-4491-8355-247c31e3e1c5",
   "metadata": {},
   "source": [
    "## Упражнение № 18\n",
    "\n",
    "В каждом слове `ser` посчитайте число символов.\n",
    "\n",
    "Пример входных данных:\n",
    "\n",
    "```python\n",
    "ser = pd.Series(['how', 'to', 'kick', 'ass?'])\n",
    "```"
   ]
  },
  {
   "cell_type": "code",
   "execution_count": 37,
   "id": "fab80850-6a8b-49b2-93ec-7e8df90b471a",
   "metadata": {},
   "outputs": [
    {
     "name": "stdout",
     "output_type": "stream",
     "text": [
      "0    3\n",
      "1    2\n",
      "2    4\n",
      "3    4\n",
      "dtype: int64\n"
     ]
    }
   ],
   "source": [
    "ser = pd.Series(['how', 'to', 'kick', 'ass?'])\n",
    "lengths = ser.str.len()\n",
    "print(lengths)"
   ]
  },
  {
   "cell_type": "markdown",
   "id": "1faa88fc-5f9f-4aa7-9f10-ff20bce7b6ed",
   "metadata": {},
   "source": [
    "## Упражнение № 19\n",
    "\n",
    "Вычислите разность разностей между последовательно идущими числами в `ser`.\n",
    "\n",
    "Пример входных данных:\n",
    "\n",
    "```python\n",
    "ser = pd.Series([1, 3, 6, 10, 15, 21, 27, 35])\n",
    "```\n",
    "\n",
    "Пример выходных данных:\n",
    "\n",
    "```\n",
    "[nan, 2.0, 3.0, 4.0, 5.0, 6.0, 6.0, 8.0]\n",
    "[nan, nan, 1.0, 1.0, 1.0, 1.0, 0.0, 2.0]\n",
    "```\n"
   ]
  },
  {
   "cell_type": "code",
   "execution_count": 38,
   "id": "0f64577d-90dc-4861-bf85-9ae4226e0c07",
   "metadata": {},
   "outputs": [
    {
     "name": "stdout",
     "output_type": "stream",
     "text": [
      "0    NaN\n",
      "1    2.0\n",
      "2    3.0\n",
      "3    4.0\n",
      "4    5.0\n",
      "5    6.0\n",
      "6    6.0\n",
      "7    8.0\n",
      "dtype: float64\n",
      "0    NaN\n",
      "1    NaN\n",
      "2    1.0\n",
      "3    1.0\n",
      "4    1.0\n",
      "5    1.0\n",
      "6    0.0\n",
      "7    2.0\n",
      "dtype: float64\n"
     ]
    }
   ],
   "source": [
    "ser = pd.Series([1, 3, 6, 10, 15, 21, 27, 35])\n",
    "\n",
    "first_diff = ser.diff()\n",
    "second_diff = first_diff.diff()\n",
    "\n",
    "print(first_diff)\n",
    "print(second_diff)"
   ]
  },
  {
   "cell_type": "code",
   "execution_count": null,
   "id": "a984743a-8330-4ace-b6ad-11b84d016f6f",
   "metadata": {},
   "outputs": [],
   "source": []
  },
  {
   "cell_type": "markdown",
   "id": "c25f2f1f-ebfd-48fe-b3fc-d5150100aba1",
   "metadata": {},
   "source": [
    "## Упражнение № 20\n",
    "\n",
    "Преобразуйте строковое представление дат в `datetime64`.\n",
    "\n",
    "Пример входных данных:\n",
    "\n",
    "```python\n",
    "ser = pd.Series(['01 Jan 2010', '02-02-2011', '20120303', '2013/04/04', '2014-05-05', '2015-06-06T12:20'])\n",
    "```\n",
    "\n",
    "Пример выходных данных:\n",
    "\n",
    "```\n",
    "0   2010-01-01 00:00:00\n",
    "1   2011-02-02 00:00:00\n",
    "2   2012-03-03 00:00:00\n",
    "3   2013-04-04 00:00:00\n",
    "4   2014-05-05 00:00:00\n",
    "5   2015-06-06 12:20:00\n",
    "dtype: datetime64[ns]\n",
    "```"
   ]
  },
  {
   "cell_type": "code",
   "execution_count": 42,
   "id": "b63de497-515c-4ad6-8a0d-47003b450c45",
   "metadata": {},
   "outputs": [
    {
     "name": "stdout",
     "output_type": "stream",
     "text": [
      "0   2010-01-01 00:00:00\n",
      "1   2011-02-02 00:00:00\n",
      "2   2012-03-03 00:00:00\n",
      "3   2013-04-04 00:00:00\n",
      "4   2014-05-05 00:00:00\n",
      "5   2015-06-06 12:20:00\n",
      "dtype: datetime64[ns]\n"
     ]
    }
   ],
   "source": [
    "ser = pd.Series(['01 Jan 2010', '02-02-2011', '20120303', '2013/04/04', '2014-05-05', '2015-06-06T12:20'])\n",
    "\n",
    "formats = ['%d %b %Y', '%d-%m-%Y', '%Y%m%d', '%Y/%m/%d', '%Y-%m-%d', '%Y-%m-%dT%H:%M']\n",
    "\n",
    "datetime_ser = ser.apply(\n",
    "    lambda x: pd.to_datetime(x, errors='coerce', format=None)\n",
    ")\n",
    "print(datetime_ser)"
   ]
  },
  {
   "cell_type": "markdown",
   "id": "ab56d926-a8da-4ecd-bc79-343829ec37f6",
   "metadata": {},
   "source": [
    "## Упражнение № 21\n",
    "\n",
    "Получите из `ser` день месяца, номер недели, день года и день недели.\n",
    "\n",
    "Пример входных данных:\n",
    "\n",
    "```python\n",
    "ser = pd.Series(['01 Jan 2010', '02-02-2011', '20120303', '2013/04/04', '2014-05-05', '2015-06-06T12:20'])\n",
    "```\n",
    "\n",
    "Пример выходных данных:\n",
    "\n",
    "```\n",
    "Date:  [1, 2, 3, 4, 5, 6]\n",
    "Week number:  [53, 5, 9, 14, 19, 23]\n",
    "Day num of year:  [1, 33, 63, 94, 125, 157]\n",
    "Day of week:  ['Friday', 'Wednesday', 'Saturday', 'Thursday', 'Monday', 'Saturday']\n",
    "```"
   ]
  },
  {
   "cell_type": "code",
   "execution_count": 49,
   "id": "65403107-efa2-4d61-8f99-6fb605f4b4ca",
   "metadata": {},
   "outputs": [
    {
     "name": "stdout",
     "output_type": "stream",
     "text": [
      "Date: [1, 2, 3, 4, 5, 6]\n",
      "Week number: [53, 5, 9, 14, 19, 23]\n",
      "Day num of year: [1, 33, 63, 94, 125, 157]\n",
      "Day of week: ['Friday', 'Wednesday', 'Saturday', 'Thursday', 'Monday', 'Saturday']\n"
     ]
    }
   ],
   "source": [
    "ser = pd.Series(['01 Jan 2010', '02-02-2011', '20120303', '2013/04/04', '2014-05-05', '2015-06-06T12:20'])\n",
    "\n",
    "dates = pd.to_datetime(ser, format='mixed')\n",
    "day_of_month = dates.dt.day\n",
    "week_number = dates.dt.isocalendar().week\n",
    "day_of_year = dates.dt.dayofyear\n",
    "day_of_week = dates.dt.day_name()\n",
    "\n",
    "print(\"Date:\", day_of_month.tolist())\n",
    "print(\"Week number:\", week_number.tolist())\n",
    "print(\"Day num of year:\", day_of_year.tolist())\n",
    "print(\"Day of week:\", day_of_week.tolist())"
   ]
  },
  {
   "cell_type": "markdown",
   "id": "7dec36d5-2d67-42bc-94b1-02ffd309e6cb",
   "metadata": {},
   "source": [
    "## Упражнение № 22\n",
    "\n",
    "Замените элементы `ser` на даты, начинающиеся с 4-го числа соответствующего месяца.\n",
    "\n",
    "Пример входных данных:\n",
    "\n",
    "```python\n",
    "ser = pd.Series(['Jan 2010', 'Feb 2011', 'Mar 2012'])\n",
    "```\n",
    "\n",
    "Пример выходных данных:\n",
    "\n",
    "```\n",
    "0   2010-01-04\n",
    "1   2011-02-04\n",
    "2   2012-03-04\n",
    "dtype: datetime64[ns]\n",
    "```"
   ]
  },
  {
   "cell_type": "code",
   "execution_count": 4,
   "id": "874f0087-3a21-471c-a14b-d1d284a0c035",
   "metadata": {},
   "outputs": [
    {
     "name": "stdout",
     "output_type": "stream",
     "text": [
      "0   2010-01-04\n",
      "1   2011-02-04\n",
      "2   2012-03-04\n",
      "dtype: datetime64[ns]\n"
     ]
    },
    {
     "name": "stderr",
     "output_type": "stream",
     "text": [
      "C:\\Users\\lewac\\AppData\\Local\\Temp\\ipykernel_3140\\840979140.py:2: UserWarning: Could not infer format, so each element will be parsed individually, falling back to `dateutil`. To ensure parsing is consistent and as-expected, please specify a format.\n",
      "  ser = pd.to_datetime(ser) + pd.offsets.Day(3)\n"
     ]
    }
   ],
   "source": [
    "ser = pd.Series(['Jan 2010', 'Feb 2011', 'Mar 2012'])\n",
    "ser = pd.to_datetime(ser) + pd.offsets.Day(3)\n",
    "print(ser)"
   ]
  },
  {
   "cell_type": "markdown",
   "id": "b5df23a5-0d3c-4d89-83b1-85b11c88bf48",
   "metadata": {},
   "source": [
    "## Упражнение № 23\n",
    "\n",
    "Из `ser` извлеките слова, содержащие не менее 2 гласных букв.\n",
    "\n",
    "Пример входных данных:\n",
    "\n",
    "```python\n",
    "ser = pd.Series(['Apple', 'Orange', 'Plan', 'Python', 'Money'])\n",
    "```\n",
    "\n",
    "Пример выходных данных:\n",
    "\n",
    "```\n",
    "0     Apple\n",
    "1    Orange\n",
    "4     Money\n",
    "dtype: object\n",
    "```\n"
   ]
  },
  {
   "cell_type": "code",
   "execution_count": 6,
   "id": "d045b49c-ea90-46cb-9d07-50f6d707f446",
   "metadata": {},
   "outputs": [
    {
     "name": "stdout",
     "output_type": "stream",
     "text": [
      "0     Apple\n",
      "1    Orange\n",
      "4     Money\n",
      "dtype: object\n"
     ]
    }
   ],
   "source": [
    "ser = pd.Series(['Apple', 'Orange', 'Plan', 'Python', 'Money'])\n",
    "vowels = \"aeiouAEIOU\"\n",
    "filtered = ser[ser.str.count(f\"[{vowels}]\") >= 2]\n",
    "print(filtered)"
   ]
  },
  {
   "cell_type": "markdown",
   "id": "a41c07c0-3630-482b-b6bc-d954a1cf8970",
   "metadata": {},
   "source": [
    "## Упражнение № 24\n",
    "\n",
    "Извлеките корректные адреса электронной почты из ряда `emails`. Шаблон регулярного выражения для корректных адресов электронной почты приведен в качестве образца.\n",
    "\n",
    "Пример входных данных:\n",
    "\n",
    "```python\n",
    "emails = pd.Series(['buying books at amazom.com', 'rameses@egypt.com', 'matt@t.co', 'narendra@modi.com'])\n",
    "pattern ='[A-Za-z0-9._%+-]+@[A-Za-z0-9.-]+\\\\.[A-Za-z]{2,4}'\n",
    "```\n",
    "\n",
    "Пример выходных данных:\n",
    "\n",
    "```\n",
    "1    rameses@egypt.com\n",
    "2            matt@t.co\n",
    "3    narendra@modi.com\n",
    "dtype: object\n",
    "```"
   ]
  },
  {
   "cell_type": "code",
   "execution_count": 7,
   "id": "c9d6d9da-ffc6-4b81-bab9-112e9713c263",
   "metadata": {},
   "outputs": [
    {
     "name": "stdout",
     "output_type": "stream",
     "text": [
      "1    rameses@egypt.com\n",
      "2            matt@t.co\n",
      "3    narendra@modi.com\n",
      "dtype: object\n"
     ]
    },
    {
     "name": "stderr",
     "output_type": "stream",
     "text": [
      "<>:2: SyntaxWarning: invalid escape sequence '\\.'\n",
      "<>:2: SyntaxWarning: invalid escape sequence '\\.'\n",
      "C:\\Users\\lewac\\AppData\\Local\\Temp\\ipykernel_3140\\1539219037.py:2: SyntaxWarning: invalid escape sequence '\\.'\n",
      "  pattern = '[A-Za-z0-9._%+-]+@[A-Za-z0-9.-]+\\.[A-Za-z]{2,4}'\n"
     ]
    }
   ],
   "source": [
    "emails = pd.Series(['buying books at amazom.com', 'rameses@egypt.com', 'matt@t.co', 'narendra@modi.com'])\n",
    "pattern = '[A-Za-z0-9._%+-]+@[A-Za-z0-9.-]+\\.[A-Za-z]{2,4}'\n",
    "valid_emails = emails[emails.str.contains(pattern, regex=True)]\n",
    "print(valid_emails)"
   ]
  },
  {
   "cell_type": "markdown",
   "id": "0eaf7ac3-e47a-4fe8-a06e-ecbc0e900f66",
   "metadata": {},
   "source": [
    "## Упражнение № 25\n",
    "\n",
    "Вычислить среднее значение веса в `weights` для каждого фрукта из `fruit`.\n",
    "\n",
    "Пример входных данных:\n",
    "\n",
    "```python\n",
    "fruit = pd.Series(np.random.choice(['apple', 'banana', 'carrot'], 10))\n",
    "weights = pd.Series(np.linspace(1, 10, 10))\n",
    "print(weight.tolist())\n",
    "print(fruit.tolist())\n",
    "#> [1.0, 2.0, 3.0, 4.0, 5.0, 6.0, 7.0, 8.0, 9.0, 10.0]\n",
    "#> ['banana', 'carrot', 'apple', 'carrot', 'carrot', 'apple', 'banana', 'carrot', 'apple', 'carrot']\n",
    "```\n",
    "\n",
    "Пример выходных данных:\n",
    "\n",
    "```python\n",
    "# values can change due to randomness\n",
    "apple     6.0\n",
    "banana    4.0\n",
    "carrot    5.8\n",
    "dtype: float64\n",
    "```"
   ]
  },
  {
   "cell_type": "code",
   "execution_count": 9,
   "id": "5d258bb9-b201-4c58-a4b8-bde8b7210c3e",
   "metadata": {},
   "outputs": [
    {
     "name": "stdout",
     "output_type": "stream",
     "text": [
      "apple     2.000000\n",
      "banana    8.000000\n",
      "carrot    3.666667\n",
      "dtype: float64\n"
     ]
    }
   ],
   "source": [
    "import numpy as np\n",
    "\n",
    "fruit = pd.Series(np.random.choice(['apple', 'banana', 'carrot'], 10))\n",
    "weights = pd.Series(np.linspace(1, 10, 10))\n",
    "mean_weights = weights.groupby(fruit).mean()\n",
    "print(mean_weights)\n"
   ]
  },
  {
   "cell_type": "markdown",
   "id": "99ac387a-6e78-42b2-beec-ead411bf1515",
   "metadata": {},
   "source": [
    "## Упражнение № 26\n",
    "\n",
    "Вычислить [евклидово расстояние](https://en.wikipedia.org/wiki/Euclidean_distance) между векторами $p$ и $q$, не используя встроенную формулу.\n",
    "\n",
    "Пример входных данных:\n",
    "\n",
    "```python\n",
    "p = pd.Series([1, 2, 3, 4, 5, 6, 7, 8, 9, 10])\n",
    "q = pd.Series([10, 9, 8, 7, 6, 5, 4, 3, 2, 1])\n",
    "```\n",
    "\n",
    "Пример выходных данных:\n",
    "\n",
    "```\n",
    "18.165\n",
    "```"
   ]
  },
  {
   "cell_type": "code",
   "execution_count": 11,
   "id": "3744a1f9-6351-487d-8529-1233dd0c8251",
   "metadata": {},
   "outputs": [
    {
     "name": "stdout",
     "output_type": "stream",
     "text": [
      "18.16590212458495\n"
     ]
    }
   ],
   "source": [
    "p = pd.Series([1, 2, 3, 4, 5, 6, 7, 8, 9, 10])\n",
    "q = pd.Series([10, 9, 8, 7, 6, 5, 4, 3, 2, 1])\n",
    "distance = np.sqrt(((p - q) ** 2).sum())\n",
    "print(distance)"
   ]
  },
  {
   "cell_type": "markdown",
   "id": "0bf53ce3-3ba7-421a-9534-fcdc054199d3",
   "metadata": {},
   "source": [
    "## Упражнение № 27\n",
    "\n",
    "Получите позиции пиков (значений, окруженных с двух сторон меньшими значениями) в `ser`.\n",
    "\n",
    "Пример входных данных:\n",
    "\n",
    "```python\n",
    "ser = pd.Series([2, 10, 3, 4, 9, 10, 2, 7, 3])\n",
    "```\n",
    "\n",
    "Пример выходных данных:\n",
    "\n",
    "```\n",
    "array([1, 5, 7])\n",
    "```"
   ]
  },
  {
   "cell_type": "code",
   "execution_count": 12,
   "id": "0c7f42ea-7077-4b5d-b099-ee4be1459d46",
   "metadata": {},
   "outputs": [
    {
     "name": "stdout",
     "output_type": "stream",
     "text": [
      "[1 5 7]\n"
     ]
    }
   ],
   "source": [
    "ser = pd.Series([2, 10, 3, 4, 9, 10, 2, 7, 3])\n",
    "peaks = np.where((ser > ser.shift(1)) & (ser > ser.shift(-1)))[0]\n",
    "print(peaks)\n"
   ]
  },
  {
   "cell_type": "markdown",
   "id": "bf15a9ac-a858-4d8c-a5dc-70c0c8331162",
   "metadata": {},
   "source": [
    "## Упражнение № 28\n",
    "\n",
    "Замените пробелы в `my_str` на наименее часто встречающийся символ.\n",
    "\n",
    "Пример входных данных:\n",
    "\n",
    "```python\n",
    "my_str = 'dbc deb abed gade'\n",
    "```\n",
    "\n",
    "Пример выходных данных:\n",
    "\n",
    "```\n",
    "'dbccdebcabedcgade'  # least frequent is 'c'\n",
    "```"
   ]
  },
  {
   "cell_type": "code",
   "execution_count": 13,
   "id": "b156995e-dec8-4cd4-9247-86d54f27f9c6",
   "metadata": {},
   "outputs": [
    {
     "name": "stdout",
     "output_type": "stream",
     "text": [
      "dbcgdebgabedggade\n"
     ]
    }
   ],
   "source": [
    "from collections import Counter\n",
    "\n",
    "my_str = 'dbc deb abed gade'\n",
    "freq = Counter(my_str.replace(' ', ''))\n",
    "char = freq.most_common()[-1][0]\n",
    "result = my_str.replace(' ', char)\n",
    "print(result)"
   ]
  },
  {
   "cell_type": "markdown",
   "id": "44996cd1-56b7-4648-8c39-9ea3d66a22f1",
   "metadata": {},
   "source": [
    "## Упражнение № 29\n",
    "\n",
    "Создайте временной ряд, начинающийся с `2000-01-01`, содержащий 10 субботних дней после этого и имеющий в качестве значений случайные числа\n",
    "\n",
    "Пример выходных данных:\n",
    "\n",
    "```\n",
    "# values can be random\n",
    "2000-01-01    4\n",
    "2000-01-08    1\n",
    "2000-01-15    8\n",
    "2000-01-22    4\n",
    "2000-01-29    4\n",
    "2000-02-05    2\n",
    "2000-02-12    4\n",
    "2000-02-19    9\n",
    "2000-02-26    6\n",
    "2000-03-04    6\n",
    "```"
   ]
  },
  {
   "cell_type": "code",
   "execution_count": 14,
   "id": "c7fee21e-8107-4fd8-a4a2-b66cdcd530a3",
   "metadata": {},
   "outputs": [
    {
     "name": "stdout",
     "output_type": "stream",
     "text": [
      "2000-01-01    2\n",
      "2000-01-08    1\n",
      "2000-01-15    7\n",
      "2000-01-22    5\n",
      "2000-01-29    6\n",
      "2000-02-05    5\n",
      "2000-02-12    7\n",
      "2000-02-19    7\n",
      "2000-02-26    3\n",
      "2000-03-04    3\n",
      "Freq: 7D, dtype: int32\n"
     ]
    }
   ],
   "source": [
    "dates = pd.date_range(start='2000-01-01', periods=10, freq='7D')\n",
    "random_values = np.random.randint(1, 10, size=10)\n",
    "time_series = pd.Series(random_values, index=dates)\n",
    "print(time_series)"
   ]
  },
  {
   "cell_type": "markdown",
   "id": "c8af8b48-f021-425e-a1f5-b06e399cd3e2",
   "metadata": {},
   "source": [
    "## Упражнение № 30\n",
    "\n",
    "В `ser` отсутствуют некоторые даты и значения. Сделайте так, чтобы все отсутствующие даты появились и заполнились значением из предыдущей даты.\n",
    "\n",
    "Пример входных данных:\n",
    "\n",
    "```python\n",
    "ser = pd.Series([1,10,3,np.nan], index=pd.to_datetime(['2000-01-01', '2000-01-03', '2000-01-06', '2000-01-08']))\n",
    "print(ser)\n",
    "#> 2000-01-01     1.0\n",
    "#> 2000-01-03    10.0\n",
    "#> 2000-01-06     3.0\n",
    "#> 2000-01-08     NaN\n",
    "#> dtype: float64\n",
    "```\n",
    "\n",
    "Пример выходных данных:\n",
    "\n",
    "```\n",
    "2000-01-01     1.0\n",
    "2000-01-02     1.0\n",
    "2000-01-03    10.0\n",
    "2000-01-04    10.0\n",
    "2000-01-05    10.0\n",
    "2000-01-06     3.0\n",
    "2000-01-07     3.0\n",
    "2000-01-08     NaN\n",
    "```"
   ]
  },
  {
   "cell_type": "code",
   "execution_count": 25,
   "id": "bbd8c905-c406-460a-ae86-c814c186e007",
   "metadata": {},
   "outputs": [
    {
     "name": "stdout",
     "output_type": "stream",
     "text": [
      "2000-01-01    1.0000\n",
      "2000-01-02    1.0000\n",
      "2000-01-03   10.0000\n",
      "2000-01-04   10.0000\n",
      "2000-01-05   10.0000\n",
      "2000-01-06    3.0000\n",
      "2000-01-07    3.0000\n",
      "2000-01-08    3.0000\n",
      "Freq: D, dtype: float64\n"
     ]
    },
    {
     "name": "stderr",
     "output_type": "stream",
     "text": [
      "C:\\Users\\lewac\\AppData\\Local\\Temp\\ipykernel_5812\\4215555315.py:2: FutureWarning: Series.fillna with 'method' is deprecated and will raise in a future version. Use obj.ffill() or obj.bfill() instead.\n",
      "  ser = ser.reindex(pd.date_range(start=ser.index.min(), end=ser.index.max(), freq='D')).fillna(method='ffill')\n"
     ]
    }
   ],
   "source": [
    "ser = pd.Series([1, 10, 3, np.nan], index=pd.to_datetime(['2000-01-01', '2000-01-03', '2000-01-06', '2000-01-08']))\n",
    "ser = ser.reindex(pd.date_range(start=ser.index.min(), end=ser.index.max(), freq='D')).fillna(method='ffill')\n",
    "print(ser)"
   ]
  },
  {
   "cell_type": "markdown",
   "id": "ac5cd639-fbba-4552-a976-810ad1740fad",
   "metadata": {},
   "source": [
    "## Упражнение № 31\n",
    "\n",
    "Вычислите автокорреляции для первых 10 лагов `ser`. Определите, какой из лагов имеет наибольшую корреляцию. (см. также [Модель авторегрессии и распределённого лага — Википедия](https://ru.wikipedia.org/wiki/%D0%9C%D0%BE%D0%B4%D0%B5%D0%BB%D1%8C_%D0%B0%D0%B2%D1%82%D0%BE%D1%80%D0%B5%D0%B3%D1%80%D0%B5%D1%81%D1%81%D0%B8%D0%B8_%D0%B8_%D1%80%D0%B0%D1%81%D0%BF%D1%80%D0%B5%D0%B4%D0%B5%D0%BB%D1%91%D0%BD%D0%BD%D0%BE%D0%B3%D0%BE_%D0%BB%D0%B0%D0%B3%D0%B0))\n",
    "\n",
    "Пример входных данных:\n",
    "\n",
    "```python\n",
    "ser = pd.Series(np.arange(20) + np.random.normal(1, 10, 20))\n",
    "```\n",
    "\n",
    "Пример выходных данных:\n",
    "\n",
    "```\n",
    "# values will change due to randomness\n",
    "[0.29999999999999999, -0.11, -0.17000000000000001, 0.46000000000000002, 0.28000000000000003, -0.040000000000000001, -0.37, 0.41999999999999998, 0.47999999999999998, 0.17999999999999999]\n",
    "Lag having highest correlation:  9\n",
    "```"
   ]
  },
  {
   "cell_type": "code",
   "execution_count": 19,
   "id": "2553c4d0-e53f-4b31-bea3-657848f70ddd",
   "metadata": {},
   "outputs": [
    {
     "name": "stdout",
     "output_type": "stream",
     "text": [
      "[np.float64(0.3936465655286895), np.float64(-0.4344738780433504), np.float64(-1.0), np.float64(-0.5773502691896257), np.float64(nan), np.float64(nan), np.float64(nan), nan, nan, nan]\n",
      "Lag having highest correlation: 5\n"
     ]
    }
   ],
   "source": [
    "ac = [ser.autocorr(lag) for lag in range(1, 11)]\n",
    "max_lag = np.argmax(ac) + 1\n",
    "print(ac)\n",
    "print(\"Lag having highest correlation:\", max_lag)"
   ]
  },
  {
   "cell_type": "markdown",
   "id": "12602c44-625b-4e48-a4e6-f240d2d756fd",
   "metadata": {},
   "source": [
    "## Упражнение № 32\n",
    "\n",
    "Импортируйте каждую 50-ю строку набора данных [BostonHousing dataset](https://raw.githubusercontent.com/selva86/datasets/master/BostonHousing.csv) в виде датафрейма."
   ]
  },
  {
   "cell_type": "code",
   "execution_count": 20,
   "id": "8ec44a8b-b38e-44e1-bd28-bca064f6bc8d",
   "metadata": {},
   "outputs": [
    {
     "name": "stdout",
     "output_type": "stream",
     "text": [
      "      crim  zn  indus  chas    nox     rm   age     dis  rad  tax  ptratio  \\\n",
      "0  0.21977   0   6.91     0  0.448  5.602  62.0  6.0877    3  233     17.9   \n",
      "1  0.06860   0   2.89     0  0.445  7.416  62.5  3.4952    2  276     18.0   \n",
      "2  2.73397   0  19.58     0  0.871  5.597  94.9  1.5257    5  403     14.7   \n",
      "3  0.03150  95   1.47     0  0.403  6.975  15.3  7.6534    3  402     17.0   \n",
      "4  0.19073  22   5.86     0  0.431  6.718  17.5  7.8265    7  330     19.1   \n",
      "5  0.05561  70   2.24     0  0.400  7.041  10.0  7.8278    5  358     14.8   \n",
      "6  0.02899  40   1.25     0  0.429  6.939  34.5  8.7921    1  335     19.7   \n",
      "7  9.91655   0  18.10     0  0.693  5.852  77.8  1.5004   24  666     20.2   \n",
      "8  7.52601   0  18.10     0  0.713  6.417  98.3  2.1850   24  666     20.2   \n",
      "9  0.17783   0   9.69     0  0.585  5.569  73.5  2.3999    6  391     19.2   \n",
      "\n",
      "        b  lstat  medv  \n",
      "0  396.90  16.20  19.4  \n",
      "1  396.90   6.19  33.2  \n",
      "2  351.85  21.45  15.4  \n",
      "3  396.90   4.56  34.9  \n",
      "4  393.74   6.56  26.2  \n",
      "5  371.58   4.74  29.0  \n",
      "6  389.85   5.89  26.6  \n",
      "7  338.16  29.97   6.3  \n",
      "8  304.21  19.31  13.0  \n",
      "9  395.77  15.10  17.5  \n"
     ]
    }
   ],
   "source": [
    "df = pd.read_csv('https://raw.githubusercontent.com/selva86/datasets/master/BostonHousing.csv', skiprows=lambda x: x % 50 != 0)\n",
    "print(df)"
   ]
  },
  {
   "cell_type": "markdown",
   "id": "76db62a6-0292-47aa-bb16-9d0bbe3cadc2",
   "metadata": {},
   "source": [
    "## Упражнение № 33\n",
    "\n",
    "Импортируйте набор данных [boston housing dataset](https://raw.githubusercontent.com/selva86/datasets/master/BostonHousing.csv), но при импорте измените столбец `'medv'` (*median house value*) так, чтобы значения < 25 стали `Low`, а > 25 - `High`.\n"
   ]
  },
  {
   "cell_type": "code",
   "execution_count": 21,
   "id": "bf8ee348-4772-4c08-9132-662114adf563",
   "metadata": {},
   "outputs": [
    {
     "name": "stdout",
     "output_type": "stream",
     "text": [
      "      crim  zn  indus  chas    nox     rm   age     dis  rad  tax  ptratio  \\\n",
      "0  0.21977   0   6.91     0  0.448  5.602  62.0  6.0877    3  233     17.9   \n",
      "1  0.06860   0   2.89     0  0.445  7.416  62.5  3.4952    2  276     18.0   \n",
      "2  2.73397   0  19.58     0  0.871  5.597  94.9  1.5257    5  403     14.7   \n",
      "3  0.03150  95   1.47     0  0.403  6.975  15.3  7.6534    3  402     17.0   \n",
      "4  0.19073  22   5.86     0  0.431  6.718  17.5  7.8265    7  330     19.1   \n",
      "\n",
      "        b  lstat  medv  \n",
      "0  396.90  16.20   Low  \n",
      "1  396.90   6.19  High  \n",
      "2  351.85  21.45   Low  \n",
      "3  396.90   4.56  High  \n",
      "4  393.74   6.56  High  \n"
     ]
    }
   ],
   "source": [
    "df['medv'] = df['medv'].apply(lambda x: 'Low' if x < 25 else 'High')\n",
    "print(df.head())"
   ]
  },
  {
   "cell_type": "markdown",
   "id": "34d76116-92fb-4880-91a1-07161bd01c9b",
   "metadata": {},
   "source": [
    "## Упражнение № 34\n",
    "\n",
    "Создайте датафрейм со строками в виде шагов (интервалов) заданного ряда\n",
    "\n",
    "Пример входных данных:\n",
    "\n",
    "```python\n",
    "L = pd.Series(range(15))\n",
    "```\n",
    "\n",
    "Пример выходных данных:\n",
    "\n",
    "```\n",
    "array([[ 0,  1,  2,  3],\n",
    "       [ 2,  3,  4,  5],\n",
    "       [ 4,  5,  6,  7],\n",
    "       [ 6,  7,  8,  9],\n",
    "       [ 8,  9, 10, 11],\n",
    "       [10, 11, 12, 13]])\n",
    "```\n"
   ]
  },
  {
   "cell_type": "code",
   "execution_count": 35,
   "id": "67024760-2192-46bf-91b5-45c29d6b0856",
   "metadata": {},
   "outputs": [
    {
     "name": "stdout",
     "output_type": "stream",
     "text": [
      "[[ 0  1  2  3]\n",
      " [ 1  2  3  4]\n",
      " [ 2  3  4  5]\n",
      " [ 3  4  5  6]\n",
      " [ 4  5  6  7]\n",
      " [ 5  6  7  8]\n",
      " [ 6  7  8  9]\n",
      " [ 7  8  9 10]\n",
      " [ 8  9 10 11]\n",
      " [ 9 10 11 12]\n",
      " [10 11 12 13]\n",
      " [11 12 13 14]]\n"
     ]
    }
   ],
   "source": [
    "L = pd.Series(range(15))\n",
    "\n",
    "n = 4\n",
    "result = np.array([L[i:i + n].values for i in range(len(L) - n + 1)])\n",
    "\n",
    "print(result)"
   ]
  },
  {
   "cell_type": "markdown",
   "id": "a04b6c05-913f-413d-9135-ca869bce724e",
   "metadata": {},
   "source": [
    "## Упражнение № 35\n",
    "\n",
    "Импортируйте столбцы 'crim' и 'medv' из набора данных [BostonHousing dataset](https://raw.githubusercontent.com/selva86/datasets/master/BostonHousing.csv) в виде датафрейма."
   ]
  },
  {
   "cell_type": "code",
   "execution_count": 24,
   "id": "0b29d95b-8cc4-4874-be75-ebeadf928785",
   "metadata": {},
   "outputs": [
    {
     "name": "stdout",
     "output_type": "stream",
     "text": [
      "        crim  medv\n",
      "0    0.00632  24.0\n",
      "1    0.02731  21.6\n",
      "2    0.02729  34.7\n",
      "3    0.03237  33.4\n",
      "4    0.06905  36.2\n",
      "..       ...   ...\n",
      "501  0.06263  22.4\n",
      "502  0.04527  20.6\n",
      "503  0.06076  23.9\n",
      "504  0.10959  22.0\n",
      "505  0.04741  11.9\n",
      "\n",
      "[506 rows x 2 columns]\n"
     ]
    }
   ],
   "source": [
    "df = pd.read_csv('https://raw.githubusercontent.com/selva86/datasets/master/BostonHousing.csv', usecols=['crim', 'medv'])\n",
    "print(df)"
   ]
  },
  {
   "cell_type": "markdown",
   "id": "021a35c0-c084-4164-a6cb-c7891ea6e822",
   "metadata": {},
   "source": [
    "## Упражнение № 36\n",
    "\n",
    "Получите количество строк, столбцов, тип данных и суммарную статистику каждого столбца набора данных [Cars93](https://raw.githubusercontent.com/selva86/datasets/master/Cars93_miss.csv). Также получите эквивалент датафрейма в виде numpy-массива и списка.\n"
   ]
  },
  {
   "cell_type": "code",
   "execution_count": 25,
   "id": "b9dc2d53-4176-40e0-baed-84aab86c70e5",
   "metadata": {},
   "outputs": [
    {
     "name": "stdout",
     "output_type": "stream",
     "text": [
      "Количество строк и столбцов: (506, 2)\n",
      "Типы данных: crim    float64\n",
      "medv    float64\n",
      "dtype: object\n",
      "Суммарная статистика:              crim        medv\n",
      "count  506.000000  506.000000\n",
      "mean     3.613524   22.532806\n",
      "std      8.601545    9.197104\n",
      "min      0.006320    5.000000\n",
      "25%      0.082045   17.025000\n",
      "50%      0.256510   21.200000\n",
      "75%      3.677083   25.000000\n",
      "max     88.976200   50.000000\n",
      "Numpy массив: [[6.3200e-03 2.4000e+01]\n",
      " [2.7310e-02 2.1600e+01]\n",
      " [2.7290e-02 3.4700e+01]\n",
      " ...\n",
      " [6.0760e-02 2.3900e+01]\n",
      " [1.0959e-01 2.2000e+01]\n",
      " [4.7410e-02 1.1900e+01]]\n",
      "Список: [[0.00632, 24.0], [0.02731, 21.6], [0.02729, 34.7], [0.03237, 33.4], [0.06905, 36.2], [0.02985, 28.7], [0.08829, 22.9], [0.14455, 27.1], [0.21124, 16.5], [0.17004, 18.9], [0.22489, 15.0], [0.11747, 18.9], [0.09378, 21.7], [0.62976, 20.4], [0.63796, 18.2], [0.62739, 19.9], [1.05393, 23.1], [0.7842, 17.5], [0.80271, 20.2], [0.7258, 18.2], [1.25179, 13.6], [0.85204, 19.6], [1.23247, 15.2], [0.98843, 14.5], [0.75026, 15.6], [0.84054, 13.9], [0.67191, 16.6], [0.95577, 14.8], [0.77299, 18.4], [1.00245, 21.0], [1.13081, 12.7], [1.35472, 14.5], [1.38799, 13.2], [1.15172, 13.1], [1.61282, 13.5], [0.06417, 18.9], [0.09744, 20.0], [0.08014, 21.0], [0.17505, 24.7], [0.02763, 30.8], [0.03359, 34.9], [0.12744, 26.6], [0.1415, 25.3], [0.15936, 24.7], [0.12269, 21.2], [0.17142, 19.3], [0.18836, 20.0], [0.22927, 16.6], [0.25387, 14.4], [0.21977, 19.4], [0.08873, 19.7], [0.04337, 20.5], [0.0536, 25.0], [0.04981, 23.4], [0.0136, 18.9], [0.01311, 35.4], [0.02055, 24.7], [0.01432, 31.6], [0.15445, 23.3], [0.10328, 19.6], [0.14932, 18.7], [0.17171, 16.0], [0.11027, 22.2], [0.1265, 25.0], [0.01951, 33.0], [0.03584, 23.5], [0.04379, 19.4], [0.05789, 22.0], [0.13554, 17.4], [0.12816, 20.9], [0.08826, 24.2], [0.15876, 21.7], [0.09164, 22.8], [0.19539, 23.4], [0.07896, 24.1], [0.09512, 21.4], [0.10153, 20.0], [0.08707, 20.8], [0.05646, 21.2], [0.08387, 20.3], [0.04113, 28.0], [0.04462, 23.9], [0.03659, 24.8], [0.03551, 22.9], [0.05059, 23.9], [0.05735, 26.6], [0.05188, 22.5], [0.07151, 22.2], [0.0566, 23.6], [0.05302, 28.7], [0.04684, 22.6], [0.03932, 22.0], [0.04203, 22.9], [0.02875, 25.0], [0.04294, 20.6], [0.12204, 28.4], [0.11504, 21.4], [0.12083, 38.7], [0.08187, 43.8], [0.0686, 33.2], [0.14866, 27.5], [0.11432, 26.5], [0.22876, 18.6], [0.21161, 19.3], [0.1396, 20.1], [0.13262, 19.5], [0.1712, 19.5], [0.13117, 20.4], [0.12802, 19.8], [0.26363, 19.4], [0.10793, 21.7], [0.10084, 22.8], [0.12329, 18.8], [0.22212, 18.7], [0.14231, 18.5], [0.17134, 18.3], [0.13158, 21.2], [0.15098, 19.2], [0.13058, 20.4], [0.14476, 19.3], [0.06899, 22.0], [0.07165, 20.3], [0.09299, 20.5], [0.15038, 17.3], [0.09849, 18.8], [0.16902, 21.4], [0.38735, 15.7], [0.25915, 16.2], [0.32543, 18.0], [0.88125, 14.3], [0.34006, 19.2], [1.19294, 19.6], [0.59005, 23.0], [0.32982, 18.4], [0.97617, 15.6], [0.55778, 18.1], [0.32264, 17.4], [0.35233, 17.1], [0.2498, 13.3], [0.54452, 17.8], [0.2909, 14.0], [1.62864, 14.4], [3.32105, 13.4], [4.0974, 15.6], [2.77974, 11.8], [2.37934, 13.8], [2.15505, 15.6], [2.36862, 14.6], [2.33099, 17.8], [2.73397, 15.4], [1.6566, 21.5], [1.49632, 19.6], [1.12658, 15.3], [2.14918, 19.4], [1.41385, 17.0], [3.53501, 15.6], [2.44668, 13.1], [1.22358, 41.3], [1.34284, 24.3], [1.42502, 23.3], [1.27346, 27.0], [1.46336, 50.0], [1.83377, 50.0], [1.51902, 50.0], [2.24236, 22.7], [2.924, 25.0], [2.01019, 50.0], [1.80028, 23.8], [2.3004, 23.8], [2.44953, 22.3], [1.20742, 17.4], [2.3139, 19.1], [0.13914, 23.1], [0.09178, 23.6], [0.08447, 22.6], [0.06664, 29.4], [0.07022, 23.2], [0.05425, 24.6], [0.06642, 29.9], [0.0578, 37.2], [0.06588, 39.8], [0.06888, 36.2], [0.09103, 37.9], [0.10008, 32.5], [0.08308, 26.4], [0.06047, 29.6], [0.05602, 50.0], [0.07875, 32.0], [0.12579, 29.8], [0.0837, 34.9], [0.09068, 37.0], [0.06911, 30.5], [0.08664, 36.4], [0.02187, 31.1], [0.01439, 29.1], [0.01381, 50.0], [0.04011, 33.3], [0.04666, 30.3], [0.03768, 34.6], [0.0315, 34.9], [0.01778, 32.9], [0.03445, 24.1], [0.02177, 42.3], [0.0351, 48.5], [0.02009, 50.0], [0.13642, 22.6], [0.22969, 24.4], [0.25199, 22.5], [0.13587, 24.4], [0.43571, 20.0], [0.17446, 21.7], [0.37578, 19.3], [0.21719, 22.4], [0.14052, 28.1], [0.28955, 23.7], [0.19802, 25.0], [0.0456, 23.3], [0.07013, 28.7], [0.11069, 21.5], [0.11425, 23.0], [0.35809, 26.7], [0.40771, 21.7], [0.62356, 27.5], [0.6147, 30.1], [0.31533, 44.8], [0.52693, 50.0], [0.38214, 37.6], [0.41238, 31.6], [0.29819, 46.7], [0.44178, 31.5], [0.537, 24.3], [0.46296, 31.7], [0.57529, 41.7], [0.33147, 48.3], [0.44791, 29.0], [0.33045, 24.0], [0.52058, 25.1], [0.51183, 31.5], [0.08244, 23.7], [0.09252, 23.3], [0.11329, 22.0], [0.10612, 20.1], [0.1029, 22.2], [0.12757, 23.7], [0.20608, 17.6], [0.19133, 18.5], [0.33983, 24.3], [0.19657, 20.5], [0.16439, 24.5], [0.19073, 26.2], [0.1403, 24.4], [0.21409, 24.8], [0.08221, 29.6], [0.36894, 42.8], [0.04819, 21.9], [0.03548, 20.9], [0.01538, 44.0], [0.61154, 50.0], [0.66351, 36.0], [0.65665, 30.1], [0.54011, 33.8], [0.53412, 43.1], [0.52014, 48.8], [0.82526, 31.0], [0.55007, 36.5], [0.76162, 22.8], [0.7857, 30.7], [0.57834, 50.0], [0.5405, 43.5], [0.09065, 20.7], [0.29916, 21.1], [0.16211, 25.2], [0.1146, 24.4], [0.22188, 35.2], [0.05644, 32.4], [0.09604, 32.0], [0.10469, 33.2], [0.06127, 33.1], [0.07978, 29.1], [0.21038, 35.1], [0.03578, 45.4], [0.03705, 35.4], [0.06129, 46.0], [0.01501, 50.0], [0.00906, 32.2], [0.01096, 22.0], [0.01965, 20.1], [0.03871, 23.2], [0.0459, 22.3], [0.04297, 24.8], [0.03502, 28.5], [0.07886, 37.3], [0.03615, 27.9], [0.08265, 23.9], [0.08199, 21.7], [0.12932, 28.6], [0.05372, 27.1], [0.14103, 20.3], [0.06466, 22.5], [0.05561, 29.0], [0.04417, 24.8], [0.03537, 22.0], [0.09266, 26.4], [0.1, 33.1], [0.05515, 36.1], [0.05479, 28.4], [0.07503, 33.4], [0.04932, 28.2], [0.49298, 22.8], [0.3494, 20.3], [2.63548, 16.1], [0.79041, 22.1], [0.26169, 19.4], [0.26938, 21.6], [0.3692, 23.8], [0.25356, 16.2], [0.31827, 17.8], [0.24522, 19.8], [0.40202, 23.1], [0.47547, 21.0], [0.1676, 23.8], [0.18159, 23.1], [0.35114, 20.4], [0.28392, 18.5], [0.34109, 25.0], [0.19186, 24.6], [0.30347, 23.0], [0.24103, 22.2], [0.06617, 19.3], [0.06724, 22.6], [0.04544, 19.8], [0.05023, 17.1], [0.03466, 19.4], [0.05083, 22.2], [0.03738, 20.7], [0.03961, 21.1], [0.03427, 19.5], [0.03041, 18.5], [0.03306, 20.6], [0.05497, 19.0], [0.06151, 18.7], [0.01301, 32.7], [0.02498, 16.5], [0.02543, 23.9], [0.03049, 31.2], [0.03113, 17.5], [0.06162, 17.2], [0.0187, 23.1], [0.01501, 24.5], [0.02899, 26.6], [0.06211, 22.9], [0.0795, 24.1], [0.07244, 18.6], [0.01709, 30.1], [0.04301, 18.2], [0.10659, 20.6], [8.98296, 17.8], [3.8497, 21.7], [5.20177, 22.7], [4.26131, 22.6], [4.54192, 25.0], [3.83684, 19.9], [3.67822, 20.8], [4.22239, 16.8], [3.47428, 21.9], [4.55587, 27.5], [3.69695, 21.9], [13.5222, 23.1], [4.89822, 50.0], [5.66998, 50.0], [6.53876, 50.0], [9.2323, 50.0], [8.26725, 50.0], [11.1081, 13.8], [18.4982, 13.8], [19.6091, 15.0], [15.288, 13.9], [9.82349, 13.3], [23.6482, 13.1], [17.8667, 10.2], [88.9762, 10.4], [15.8744, 10.9], [9.18702, 11.3], [7.99248, 12.3], [20.0849, 8.8], [16.8118, 7.2], [24.3938, 10.5], [22.5971, 7.4], [14.3337, 10.2], [8.15174, 11.5], [6.96215, 15.1], [5.29305, 23.2], [11.5779, 9.7], [8.64476, 13.8], [13.3598, 12.7], [8.71675, 13.1], [5.87205, 12.5], [7.67202, 8.5], [38.3518, 5.0], [9.91655, 6.3], [25.0461, 5.6], [14.2362, 7.2], [9.59571, 12.1], [24.8017, 8.3], [41.5292, 8.5], [67.9208, 5.0], [20.7162, 11.9], [11.9511, 27.9], [7.40389, 17.2], [14.4383, 27.5], [51.1358, 15.0], [14.0507, 17.2], [18.811, 17.9], [28.6558, 16.3], [45.7461, 7.0], [18.0846, 7.2], [10.8342, 7.5], [25.9406, 10.4], [73.5341, 8.8], [11.8123, 8.4], [11.0874, 16.7], [7.02259, 14.2], [12.0482, 20.8], [7.05042, 13.4], [8.79212, 11.7], [15.8603, 8.3], [12.2472, 10.2], [37.6619, 10.9], [7.36711, 11.0], [9.33889, 9.5], [8.49213, 14.5], [10.0623, 14.1], [6.44405, 16.1], [5.58107, 14.3], [13.9134, 11.7], [11.1604, 13.4], [14.4208, 9.6], [15.1772, 8.7], [13.6781, 8.4], [9.39063, 12.8], [22.0511, 10.5], [9.72418, 17.1], [5.66637, 18.4], [9.96654, 15.4], [12.8023, 10.8], [10.6718, 11.8], [6.28807, 14.9], [9.92485, 12.6], [9.32909, 14.1], [7.52601, 13.0], [6.71772, 13.4], [5.44114, 15.2], [5.09017, 16.1], [8.24809, 17.8], [9.51363, 14.9], [4.75237, 14.1], [4.66883, 12.7], [8.20058, 13.5], [7.75223, 14.9], [6.80117, 20.0], [4.81213, 16.4], [3.69311, 17.7], [6.65492, 19.5], [5.82115, 20.2], [7.83932, 21.4], [3.1636, 19.9], [3.77498, 19.0], [4.42228, 19.1], [15.5757, 19.1], [13.0751, 20.1], [4.34879, 19.9], [4.03841, 19.6], [3.56868, 23.2], [4.64689, 29.8], [8.05579, 13.8], [6.39312, 13.3], [4.87141, 16.7], [15.0234, 12.0], [10.233, 14.6], [14.3337, 21.4], [5.82401, 23.0], [5.70818, 23.7], [5.73116, 25.0], [2.81838, 21.8], [2.37857, 20.6], [3.67367, 21.2], [5.69175, 19.1], [4.83567, 20.6], [0.15086, 15.2], [0.18337, 7.0], [0.20746, 8.1], [0.10574, 13.6], [0.11132, 20.1], [0.17331, 21.8], [0.27957, 24.5], [0.17899, 23.1], [0.2896, 19.7], [0.26838, 18.3], [0.23912, 21.2], [0.17783, 17.5], [0.22438, 16.8], [0.06263, 22.4], [0.04527, 20.6], [0.06076, 23.9], [0.10959, 22.0], [0.04741, 11.9]]\n"
     ]
    }
   ],
   "source": [
    "print(\"Количество строк и столбцов:\", df.shape)\n",
    "print(\"Типы данных:\", df.dtypes)\n",
    "print(\"Суммарная статистика:\", df.describe())\n",
    "print(\"Numpy массив:\", df.to_numpy())\n",
    "print(\"Список:\", df.values.tolist())"
   ]
  },
  {
   "cell_type": "markdown",
   "id": "db7f8e55-8c5c-487e-bdbe-061016444efc",
   "metadata": {},
   "source": [
    "## Упражнение № 37\n",
    "\n",
    "Извлеките номер строки и столбца конкретной ячейки по заданному критерию.\n",
    "\n",
    "Пример входных данных:\n",
    "\n",
    "```python\n",
    "df = pd.read_csv('https://raw.githubusercontent.com/selva86/datasets/master/Cars93_miss.csv')\n",
    "```"
   ]
  },
  {
   "cell_type": "code",
   "execution_count": 36,
   "id": "eedeaf70-0a2b-4bb6-8030-8bb5eb036ead",
   "metadata": {},
   "outputs": [
    {
     "name": "stdout",
     "output_type": "stream",
     "text": [
      "Производитель: Mercedes-Benz, Модель: 300E, Тип: Midsize\n",
      "Номер строки: 58, Номер столбца: 4\n"
     ]
    }
   ],
   "source": [
    "df = pd.read_csv('https://raw.githubusercontent.com/selva86/datasets/master/Cars93_miss.csv')\n",
    "\n",
    "max_price_idx = df['Price'].idxmax()\n",
    "manufacturer, model, car_type = df.loc[max_price_idx, ['Manufacturer', 'Model', 'Type']]\n",
    "print(f\"Производитель: {manufacturer}, Модель: {model}, Тип: {car_type}\")\n",
    "\n",
    "row_number = max_price_idx\n",
    "col_number = df.columns.get_loc('Price')\n",
    "print(f\"Номер строки: {row_number}, Номер столбца: {col_number}\")"
   ]
  },
  {
   "cell_type": "markdown",
   "id": "666c3538-47de-4544-aac9-1f64f911f857",
   "metadata": {},
   "source": [
    "## Упражнение № 38\n",
    "\n",
    "Переименуйте в `df` столбец `Type` в `CarType` и замените `.` в именах столбцов на `_`.\n",
    "\n",
    "Пример входных данных:\n",
    "\n",
    "```python\n",
    "df = pd.read_csv('https://raw.githubusercontent.com/selva86/datasets/master/Cars93_miss.csv')\n",
    "print(df.columns)\n",
    "#> Index(['Manufacturer', 'Model', 'Type', 'Min.Price', 'Price', 'Max.Price',\n",
    "#>        'MPG.city', 'MPG.highway', 'AirBags', 'DriveTrain', 'Cylinders',\n",
    "#>        'EngineSize', 'Horsepower', 'RPM', 'Rev.per.mile', 'Man.trans.avail',\n",
    "#>        'Fuel.tank.capacity', 'Passengers', 'Length', 'Wheelbase', 'Width',\n",
    "#>        'Turn.circle', 'Rear.seat.room', 'Luggage.room', 'Weight', 'Origin',\n",
    "#>        'Make'],\n",
    "#>       dtype='object')\n",
    "```\n",
    "\n",
    "Пример выходных данных:\n",
    "\n",
    "```python\n",
    "print(df.columns)\n",
    "#> Index(['Manufacturer', 'Model', 'CarType', 'Min_Price', 'Price', 'Max_Price',\n",
    "#>        'MPG_city', 'MPG_highway', 'AirBags', 'DriveTrain', 'Cylinders',\n",
    "#>        'EngineSize', 'Horsepower', 'RPM', 'Rev_per_mile', 'Man_trans_avail',\n",
    "#>        'Fuel_tank_capacity', 'Passengers', 'Length', 'Wheelbase', 'Width',\n",
    "#>        'Turn_circle', 'Rear_seat_room', 'Luggage_room', 'Weight', 'Origin',\n",
    "#>        'Make'],\n",
    "#>       dtype='object')\n",
    "```"
   ]
  },
  {
   "cell_type": "code",
   "execution_count": 4,
   "id": "7e730911-d8c2-4e82-b0d5-90e2243b7ffb",
   "metadata": {},
   "outputs": [
    {
     "name": "stdout",
     "output_type": "stream",
     "text": [
      "Index(['Manufacturer', 'Model', 'CarType', 'Min_Price', 'Price', 'Max_Price',\n",
      "       'MPG_city', 'MPG_highway', 'AirBags', 'DriveTrain', 'Cylinders',\n",
      "       'EngineSize', 'Horsepower', 'RPM', 'Rev_per_mile', 'Man_trans_avail',\n",
      "       'Fuel_tank_capacity', 'Passengers', 'Length', 'Wheelbase', 'Width',\n",
      "       'Turn_circle', 'Rear_seat_room', 'Luggage_room', 'Weight', 'Origin',\n",
      "       'Make'],\n",
      "      dtype='object')\n"
     ]
    }
   ],
   "source": [
    "df = pd.read_csv('https://raw.githubusercontent.com/selva86/datasets/master/Cars93_miss.csv')\n",
    "\n",
    "df.rename(columns={'Type': 'CarType'}, inplace=True)\n",
    "df.columns = df.columns.str.replace('.', '_')\n",
    "print(df.columns)"
   ]
  },
  {
   "cell_type": "markdown",
   "id": "42e47491-d243-4fcc-b868-3d2a56029c77",
   "metadata": {},
   "source": [
    "## Упражнение № 39\n",
    "\n",
    "Проверьте, нет ли в `df` отсутствующих значений.\n",
    "\n",
    "Пример входных данных:\n",
    "\n",
    "```python\n",
    "df = pd.read_csv('https://raw.githubusercontent.com/selva86/datasets/master/Cars93_miss.csv')\n",
    "```"
   ]
  },
  {
   "cell_type": "code",
   "execution_count": 5,
   "id": "4a4a6285-95df-4885-8194-ff2e764e0d9e",
   "metadata": {},
   "outputs": [
    {
     "name": "stdout",
     "output_type": "stream",
     "text": [
      "Пропущенные значения: True\n"
     ]
    }
   ],
   "source": [
    "missing = df.isnull().any().any()\n",
    "print(\"Пропущенные значения:\", missing)"
   ]
  },
  {
   "cell_type": "markdown",
   "id": "b643579d-d2ad-46c4-ad9f-964067ef37a6",
   "metadata": {},
   "source": [
    "## Упражнение № 40\n",
    "\n",
    "Подсчитайте количество пропущенных значений в каждом столбце `df`. Какой столбец имеет наибольшее число пропущенных значений?\n",
    "\n",
    "Пример входных данных:\n",
    "\n",
    "```python\n",
    "df = pd.read_csv('https://raw.githubusercontent.com/selva86/datasets/master/Cars93_miss.csv')\n",
    "```"
   ]
  },
  {
   "cell_type": "code",
   "execution_count": 6,
   "id": "58ad0551-93f3-4d3e-97b4-acc3e2481437",
   "metadata": {},
   "outputs": [
    {
     "name": "stdout",
     "output_type": "stream",
     "text": [
      "Пропущенные значения по столбцам:\n",
      " Manufacturer           4\n",
      "Model                  1\n",
      "CarType                3\n",
      "Min_Price              7\n",
      "Price                  2\n",
      "Max_Price              5\n",
      "MPG_city               9\n",
      "MPG_highway            2\n",
      "AirBags               38\n",
      "DriveTrain             7\n",
      "Cylinders              5\n",
      "EngineSize             2\n",
      "Horsepower             7\n",
      "RPM                    3\n",
      "Rev_per_mile           6\n",
      "Man_trans_avail        5\n",
      "Fuel_tank_capacity     8\n",
      "Passengers             2\n",
      "Length                 4\n",
      "Wheelbase              1\n",
      "Width                  6\n",
      "Turn_circle            5\n",
      "Rear_seat_room         4\n",
      "Luggage_room          19\n",
      "Weight                 7\n",
      "Origin                 5\n",
      "Make                   3\n",
      "dtype: int64\n",
      "Столбец с наибольшим количеством пропущенных значений: AirBags\n"
     ]
    }
   ],
   "source": [
    "missing_counts = df.isnull().sum()\n",
    "max_missing_col = missing_counts.idxmax()\n",
    "print(\"Пропущенные значения по столбцам:\\n\", missing_counts)\n",
    "print(\"Столбец с наибольшим количеством пропущенных значений:\", max_missing_col)"
   ]
  },
  {
   "cell_type": "markdown",
   "id": "cd07acae-ae6e-4d26-b166-5598ce97fad2",
   "metadata": {},
   "source": [
    "## Упражнение № 41\n",
    "\n",
    "Замените отсутствующие значения в столбцах `Min.Price` и `Max.Price` на соответствующие им средние значения.\n",
    "\n",
    "Пример входных данных:\n",
    "\n",
    "```python\n",
    "df = pd.read_csv('https://raw.githubusercontent.com/selva86/datasets/master/Cars93_miss.csv')\n",
    "```"
   ]
  },
  {
   "cell_type": "code",
   "execution_count": 7,
   "id": "60427c4b-27c9-443a-a186-e9c9ce213250",
   "metadata": {},
   "outputs": [
    {
     "data": {
      "text/html": [
       "<div>\n",
       "<style scoped>\n",
       "    .dataframe tbody tr th:only-of-type {\n",
       "        vertical-align: middle;\n",
       "    }\n",
       "\n",
       "    .dataframe tbody tr th {\n",
       "        vertical-align: top;\n",
       "    }\n",
       "\n",
       "    .dataframe thead th {\n",
       "        text-align: right;\n",
       "    }\n",
       "</style>\n",
       "<table border=\"1\" class=\"dataframe\">\n",
       "  <thead>\n",
       "    <tr style=\"text-align: right;\">\n",
       "      <th></th>\n",
       "      <th>Min.Price</th>\n",
       "      <th>Max.Price</th>\n",
       "    </tr>\n",
       "  </thead>\n",
       "  <tbody>\n",
       "    <tr>\n",
       "      <th>0</th>\n",
       "      <td>12.900000</td>\n",
       "      <td>18.800000</td>\n",
       "    </tr>\n",
       "    <tr>\n",
       "      <th>1</th>\n",
       "      <td>29.200000</td>\n",
       "      <td>38.700000</td>\n",
       "    </tr>\n",
       "    <tr>\n",
       "      <th>2</th>\n",
       "      <td>25.900000</td>\n",
       "      <td>32.300000</td>\n",
       "    </tr>\n",
       "    <tr>\n",
       "      <th>3</th>\n",
       "      <td>17.118605</td>\n",
       "      <td>44.600000</td>\n",
       "    </tr>\n",
       "    <tr>\n",
       "      <th>4</th>\n",
       "      <td>17.118605</td>\n",
       "      <td>21.459091</td>\n",
       "    </tr>\n",
       "    <tr>\n",
       "      <th>...</th>\n",
       "      <td>...</td>\n",
       "      <td>...</td>\n",
       "    </tr>\n",
       "    <tr>\n",
       "      <th>88</th>\n",
       "      <td>16.600000</td>\n",
       "      <td>22.700000</td>\n",
       "    </tr>\n",
       "    <tr>\n",
       "      <th>89</th>\n",
       "      <td>17.600000</td>\n",
       "      <td>22.400000</td>\n",
       "    </tr>\n",
       "    <tr>\n",
       "      <th>90</th>\n",
       "      <td>22.900000</td>\n",
       "      <td>23.700000</td>\n",
       "    </tr>\n",
       "    <tr>\n",
       "      <th>91</th>\n",
       "      <td>21.800000</td>\n",
       "      <td>23.500000</td>\n",
       "    </tr>\n",
       "    <tr>\n",
       "      <th>92</th>\n",
       "      <td>24.800000</td>\n",
       "      <td>28.500000</td>\n",
       "    </tr>\n",
       "  </tbody>\n",
       "</table>\n",
       "<p>93 rows × 2 columns</p>\n",
       "</div>"
      ],
      "text/plain": [
       "    Min.Price  Max.Price\n",
       "0   12.900000  18.800000\n",
       "1   29.200000  38.700000\n",
       "2   25.900000  32.300000\n",
       "3   17.118605  44.600000\n",
       "4   17.118605  21.459091\n",
       "..        ...        ...\n",
       "88  16.600000  22.700000\n",
       "89  17.600000  22.400000\n",
       "90  22.900000  23.700000\n",
       "91  21.800000  23.500000\n",
       "92  24.800000  28.500000\n",
       "\n",
       "[93 rows x 2 columns]"
      ]
     },
     "execution_count": 7,
     "metadata": {},
     "output_type": "execute_result"
    }
   ],
   "source": [
    "df =pd.read_csv('https://raw.githubusercontent.com/selva86/datasets/master/Cars93_miss.csv',usecols=['Max.Price','Min.Price'])\n",
    "\n",
    "df['Min.Price'] = df['Min.Price'].fillna(df['Min.Price'].mean())\n",
    "df['Max.Price'] = df['Max.Price'].fillna(df[\"Max.Price\"].mean())\n",
    "df"
   ]
  },
  {
   "cell_type": "markdown",
   "id": "16f89ffe-64b0-4479-ab6e-defdc61214c7",
   "metadata": {},
   "source": [
    "## Упражнение № 42\n",
    "\n",
    "В `df` с помощью метода `apply` замените недостающие значения в `Min.Price` на среднее значение столбца, а в `Max.Price` — на медиану столбца.\n",
    "\n",
    "Пример входных данных:\n",
    "\n",
    "```python\n",
    "df = pd.read_csv('https://raw.githubusercontent.com/selva86/datasets/master/Cars93_miss.csv')\n",
    "```"
   ]
  },
  {
   "cell_type": "code",
   "execution_count": 8,
   "id": "b5a56a72-6c7f-4e03-b8a6-46362fae0e4e",
   "metadata": {},
   "outputs": [
    {
     "data": {
      "text/html": [
       "<div>\n",
       "<style scoped>\n",
       "    .dataframe tbody tr th:only-of-type {\n",
       "        vertical-align: middle;\n",
       "    }\n",
       "\n",
       "    .dataframe tbody tr th {\n",
       "        vertical-align: top;\n",
       "    }\n",
       "\n",
       "    .dataframe thead th {\n",
       "        text-align: right;\n",
       "    }\n",
       "</style>\n",
       "<table border=\"1\" class=\"dataframe\">\n",
       "  <thead>\n",
       "    <tr style=\"text-align: right;\">\n",
       "      <th></th>\n",
       "      <th>Min.Price</th>\n",
       "      <th>Max.Price</th>\n",
       "    </tr>\n",
       "  </thead>\n",
       "  <tbody>\n",
       "    <tr>\n",
       "      <th>0</th>\n",
       "      <td>12.900000</td>\n",
       "      <td>18.80</td>\n",
       "    </tr>\n",
       "    <tr>\n",
       "      <th>1</th>\n",
       "      <td>29.200000</td>\n",
       "      <td>38.70</td>\n",
       "    </tr>\n",
       "    <tr>\n",
       "      <th>2</th>\n",
       "      <td>25.900000</td>\n",
       "      <td>32.30</td>\n",
       "    </tr>\n",
       "    <tr>\n",
       "      <th>3</th>\n",
       "      <td>17.118605</td>\n",
       "      <td>44.60</td>\n",
       "    </tr>\n",
       "    <tr>\n",
       "      <th>4</th>\n",
       "      <td>17.118605</td>\n",
       "      <td>19.15</td>\n",
       "    </tr>\n",
       "    <tr>\n",
       "      <th>...</th>\n",
       "      <td>...</td>\n",
       "      <td>...</td>\n",
       "    </tr>\n",
       "    <tr>\n",
       "      <th>88</th>\n",
       "      <td>16.600000</td>\n",
       "      <td>22.70</td>\n",
       "    </tr>\n",
       "    <tr>\n",
       "      <th>89</th>\n",
       "      <td>17.600000</td>\n",
       "      <td>22.40</td>\n",
       "    </tr>\n",
       "    <tr>\n",
       "      <th>90</th>\n",
       "      <td>22.900000</td>\n",
       "      <td>23.70</td>\n",
       "    </tr>\n",
       "    <tr>\n",
       "      <th>91</th>\n",
       "      <td>21.800000</td>\n",
       "      <td>23.50</td>\n",
       "    </tr>\n",
       "    <tr>\n",
       "      <th>92</th>\n",
       "      <td>24.800000</td>\n",
       "      <td>28.50</td>\n",
       "    </tr>\n",
       "  </tbody>\n",
       "</table>\n",
       "<p>93 rows × 2 columns</p>\n",
       "</div>"
      ],
      "text/plain": [
       "    Min.Price  Max.Price\n",
       "0   12.900000      18.80\n",
       "1   29.200000      38.70\n",
       "2   25.900000      32.30\n",
       "3   17.118605      44.60\n",
       "4   17.118605      19.15\n",
       "..        ...        ...\n",
       "88  16.600000      22.70\n",
       "89  17.600000      22.40\n",
       "90  22.900000      23.70\n",
       "91  21.800000      23.50\n",
       "92  24.800000      28.50\n",
       "\n",
       "[93 rows x 2 columns]"
      ]
     },
     "execution_count": 8,
     "metadata": {},
     "output_type": "execute_result"
    }
   ],
   "source": [
    "df =pd.read_csv('https://raw.githubusercontent.com/selva86/datasets/master/Cars93_miss.csv',usecols=['Max.Price','Min.Price'])\n",
    "\n",
    "df['Min.Price'] = df['Min.Price'].apply(lambda x: df['Min.Price'].mean() if pd.isna(x) else x)\n",
    "df['Max.Price'] = df[\"Max.Price\"].apply(lambda x: df['Max.Price'].median() if pd.isna(x) else x)\n",
    "\n",
    "df"
   ]
  },
  {
   "cell_type": "markdown",
   "id": "a5736baf-2eaa-4890-8cf6-a7b79f79b4c2",
   "metadata": {},
   "source": [
    "## Упражнение № 43\n",
    "\n",
    "Получите первый столбец (`a`) в `df` в виде датафрейма (а не в виде ряда).\n",
    "\n",
    "Пример входных данных:\n",
    "\n",
    "```python\n",
    "df = pd.DataFrame(np.arange(20).reshape(-1, 5), columns=list('abcde'))\n",
    "```"
   ]
  },
  {
   "cell_type": "code",
   "execution_count": 13,
   "id": "eca59037-e7e9-4466-bd30-c847f3742e5d",
   "metadata": {},
   "outputs": [
    {
     "name": "stdout",
     "output_type": "stream",
     "text": [
      "    a\n",
      "0   0\n",
      "1   5\n",
      "2  10\n",
      "3  15\n",
      "\n",
      "================================================================================\n",
      "\n"
     ]
    }
   ],
   "source": [
    "df = pd.DataFrame(np.arange(20).reshape(-1, 5), columns=list('abcde'))\n",
    "first_column_df = df[['a']]\n",
    "print(first_column_df)\n",
    "print(\"\\n\" + \"=\"*80 + \"\\n\")"
   ]
  },
  {
   "cell_type": "markdown",
   "id": "5471c925-40ba-41df-962a-e6b3f49c6239",
   "metadata": {},
   "source": [
    "## Упражнение № 44\n",
    "\n",
    "1. В `df` поменяйте местами столбцы `'a'` и `'c'`.\n",
    "2. Создайте обобщенную функцию для обмена данными между двумя столбцами без фиксированного задания имен столбцов.\n",
    "3. Отсортируйте столбцы в обратном алфавитном порядке, т.е. от столбца `'e'` до столбца `'a'`.\n",
    "\n",
    "Пример входных данных:\n",
    "\n",
    "```python\n",
    "df = pd.DataFrame(np.arange(20).reshape(-1, 5), columns=list('abcde'))\n",
    "```"
   ]
  },
  {
   "cell_type": "code",
   "execution_count": 14,
   "id": "4b48b9f0-22db-4b27-9542-d78fdd89c012",
   "metadata": {},
   "outputs": [
    {
     "name": "stdout",
     "output_type": "stream",
     "text": [
      "    c   b   a   d   e\n",
      "0   2   1   0   3   4\n",
      "1   7   6   5   8   9\n",
      "2  12  11  10  13  14\n",
      "3  17  16  15  18  19 \n",
      "\n",
      "    c   b   a   d   e\n",
      "0   2   1   0   3   4\n",
      "1   7   6   5   8   9\n",
      "2  12  11  10  13  14\n",
      "3  17  16  15  18  19\n"
     ]
    },
    {
     "data": {
      "text/html": [
       "<div>\n",
       "<style scoped>\n",
       "    .dataframe tbody tr th:only-of-type {\n",
       "        vertical-align: middle;\n",
       "    }\n",
       "\n",
       "    .dataframe tbody tr th {\n",
       "        vertical-align: top;\n",
       "    }\n",
       "\n",
       "    .dataframe thead th {\n",
       "        text-align: right;\n",
       "    }\n",
       "</style>\n",
       "<table border=\"1\" class=\"dataframe\">\n",
       "  <thead>\n",
       "    <tr style=\"text-align: right;\">\n",
       "      <th></th>\n",
       "      <th>e</th>\n",
       "      <th>d</th>\n",
       "      <th>c</th>\n",
       "      <th>b</th>\n",
       "      <th>a</th>\n",
       "    </tr>\n",
       "  </thead>\n",
       "  <tbody>\n",
       "    <tr>\n",
       "      <th>0</th>\n",
       "      <td>4</td>\n",
       "      <td>3</td>\n",
       "      <td>2</td>\n",
       "      <td>1</td>\n",
       "      <td>0</td>\n",
       "    </tr>\n",
       "    <tr>\n",
       "      <th>1</th>\n",
       "      <td>9</td>\n",
       "      <td>8</td>\n",
       "      <td>7</td>\n",
       "      <td>6</td>\n",
       "      <td>5</td>\n",
       "    </tr>\n",
       "    <tr>\n",
       "      <th>2</th>\n",
       "      <td>14</td>\n",
       "      <td>13</td>\n",
       "      <td>12</td>\n",
       "      <td>11</td>\n",
       "      <td>10</td>\n",
       "    </tr>\n",
       "    <tr>\n",
       "      <th>3</th>\n",
       "      <td>19</td>\n",
       "      <td>18</td>\n",
       "      <td>17</td>\n",
       "      <td>16</td>\n",
       "      <td>15</td>\n",
       "    </tr>\n",
       "  </tbody>\n",
       "</table>\n",
       "</div>"
      ],
      "text/plain": [
       "    e   d   c   b   a\n",
       "0   4   3   2   1   0\n",
       "1   9   8   7   6   5\n",
       "2  14  13  12  11  10\n",
       "3  19  18  17  16  15"
      ]
     },
     "execution_count": 14,
     "metadata": {},
     "output_type": "execute_result"
    }
   ],
   "source": [
    "df = pd.DataFrame(np.arange(20).reshape(-1, 5), columns=list('abcde'))\n",
    "\n",
    "cols = list(df.columns)\n",
    "a, c = cols.index('a'), cols.index('c')\n",
    "cols[a], cols[c] = cols[c], cols[a]\n",
    "print(df[cols],'\\n')\n",
    "\n",
    "def swap_columnns(df: pd.DataFrame, col1, col2):\n",
    "    cols = list(df.columns)\n",
    "    a, b = cols.index(col1), cols.index(col2)\n",
    "    cols[a], cols[b] = cols[b], cols[a]\n",
    "    return df[cols]\n",
    "\n",
    "print(swap_columnns(df,'a','c'))\n",
    "\n",
    "df.sort_index(axis=1,ascending=False)"
   ]
  },
  {
   "cell_type": "markdown",
   "id": "41ddcbd4-120f-4d38-a212-5f321d5983d9",
   "metadata": {},
   "source": [
    "## Упражнение № 45\n",
    "\n",
    "Измените настройки отображения `pandas` при выводе на печать датафрейма `df`, чтобы он показывал максимум 10 строк и 10 столбцов.\n",
    "\n",
    "Пример входных данных:\n",
    "\n",
    "```python\n",
    "df = pd.read_csv('https://raw.githubusercontent.com/selva86/datasets/master/Cars93_miss.csv')\n",
    "```"
   ]
  },
  {
   "cell_type": "code",
   "execution_count": 17,
   "id": "52a743e2-63d3-47fe-af7c-405149bd9ded",
   "metadata": {},
   "outputs": [
    {
     "data": {
      "text/html": [
       "<div>\n",
       "<style scoped>\n",
       "    .dataframe tbody tr th:only-of-type {\n",
       "        vertical-align: middle;\n",
       "    }\n",
       "\n",
       "    .dataframe tbody tr th {\n",
       "        vertical-align: top;\n",
       "    }\n",
       "\n",
       "    .dataframe thead th {\n",
       "        text-align: right;\n",
       "    }\n",
       "</style>\n",
       "<table border=\"1\" class=\"dataframe\">\n",
       "  <thead>\n",
       "    <tr style=\"text-align: right;\">\n",
       "      <th></th>\n",
       "      <th>Manufacturer</th>\n",
       "      <th>Model</th>\n",
       "      <th>Type</th>\n",
       "      <th>Min.Price</th>\n",
       "      <th>Price</th>\n",
       "      <th>...</th>\n",
       "      <th>Rear.seat.room</th>\n",
       "      <th>Luggage.room</th>\n",
       "      <th>Weight</th>\n",
       "      <th>Origin</th>\n",
       "      <th>Make</th>\n",
       "    </tr>\n",
       "  </thead>\n",
       "  <tbody>\n",
       "    <tr>\n",
       "      <th>0</th>\n",
       "      <td>Acura</td>\n",
       "      <td>Integra</td>\n",
       "      <td>Small</td>\n",
       "      <td>12.9</td>\n",
       "      <td>15.9</td>\n",
       "      <td>...</td>\n",
       "      <td>26.5</td>\n",
       "      <td>NaN</td>\n",
       "      <td>2705.0</td>\n",
       "      <td>non-USA</td>\n",
       "      <td>Acura Integra</td>\n",
       "    </tr>\n",
       "    <tr>\n",
       "      <th>1</th>\n",
       "      <td>NaN</td>\n",
       "      <td>Legend</td>\n",
       "      <td>Midsize</td>\n",
       "      <td>29.2</td>\n",
       "      <td>33.9</td>\n",
       "      <td>...</td>\n",
       "      <td>30.0</td>\n",
       "      <td>15.0</td>\n",
       "      <td>3560.0</td>\n",
       "      <td>non-USA</td>\n",
       "      <td>Acura Legend</td>\n",
       "    </tr>\n",
       "    <tr>\n",
       "      <th>2</th>\n",
       "      <td>Audi</td>\n",
       "      <td>90</td>\n",
       "      <td>Compact</td>\n",
       "      <td>25.9</td>\n",
       "      <td>29.1</td>\n",
       "      <td>...</td>\n",
       "      <td>28.0</td>\n",
       "      <td>14.0</td>\n",
       "      <td>3375.0</td>\n",
       "      <td>non-USA</td>\n",
       "      <td>Audi 90</td>\n",
       "    </tr>\n",
       "    <tr>\n",
       "      <th>3</th>\n",
       "      <td>Audi</td>\n",
       "      <td>100</td>\n",
       "      <td>Midsize</td>\n",
       "      <td>NaN</td>\n",
       "      <td>37.7</td>\n",
       "      <td>...</td>\n",
       "      <td>31.0</td>\n",
       "      <td>17.0</td>\n",
       "      <td>3405.0</td>\n",
       "      <td>non-USA</td>\n",
       "      <td>Audi 100</td>\n",
       "    </tr>\n",
       "    <tr>\n",
       "      <th>4</th>\n",
       "      <td>BMW</td>\n",
       "      <td>535i</td>\n",
       "      <td>Midsize</td>\n",
       "      <td>NaN</td>\n",
       "      <td>30.0</td>\n",
       "      <td>...</td>\n",
       "      <td>27.0</td>\n",
       "      <td>13.0</td>\n",
       "      <td>3640.0</td>\n",
       "      <td>non-USA</td>\n",
       "      <td>BMW 535i</td>\n",
       "    </tr>\n",
       "    <tr>\n",
       "      <th>...</th>\n",
       "      <td>...</td>\n",
       "      <td>...</td>\n",
       "      <td>...</td>\n",
       "      <td>...</td>\n",
       "      <td>...</td>\n",
       "      <td>...</td>\n",
       "      <td>...</td>\n",
       "      <td>...</td>\n",
       "      <td>...</td>\n",
       "      <td>...</td>\n",
       "      <td>...</td>\n",
       "    </tr>\n",
       "    <tr>\n",
       "      <th>88</th>\n",
       "      <td>Volkswagen</td>\n",
       "      <td>Eurovan</td>\n",
       "      <td>Van</td>\n",
       "      <td>16.6</td>\n",
       "      <td>19.7</td>\n",
       "      <td>...</td>\n",
       "      <td>34.0</td>\n",
       "      <td>NaN</td>\n",
       "      <td>3960.0</td>\n",
       "      <td>NaN</td>\n",
       "      <td>Volkswagen Eurovan</td>\n",
       "    </tr>\n",
       "    <tr>\n",
       "      <th>89</th>\n",
       "      <td>Volkswagen</td>\n",
       "      <td>Passat</td>\n",
       "      <td>Compact</td>\n",
       "      <td>17.6</td>\n",
       "      <td>20.0</td>\n",
       "      <td>...</td>\n",
       "      <td>31.5</td>\n",
       "      <td>14.0</td>\n",
       "      <td>2985.0</td>\n",
       "      <td>non-USA</td>\n",
       "      <td>Volkswagen Passat</td>\n",
       "    </tr>\n",
       "    <tr>\n",
       "      <th>90</th>\n",
       "      <td>Volkswagen</td>\n",
       "      <td>Corrado</td>\n",
       "      <td>Sporty</td>\n",
       "      <td>22.9</td>\n",
       "      <td>23.3</td>\n",
       "      <td>...</td>\n",
       "      <td>26.0</td>\n",
       "      <td>15.0</td>\n",
       "      <td>2810.0</td>\n",
       "      <td>non-USA</td>\n",
       "      <td>Volkswagen Corrado</td>\n",
       "    </tr>\n",
       "    <tr>\n",
       "      <th>91</th>\n",
       "      <td>Volvo</td>\n",
       "      <td>240</td>\n",
       "      <td>Compact</td>\n",
       "      <td>21.8</td>\n",
       "      <td>22.7</td>\n",
       "      <td>...</td>\n",
       "      <td>29.5</td>\n",
       "      <td>14.0</td>\n",
       "      <td>2985.0</td>\n",
       "      <td>non-USA</td>\n",
       "      <td>Volvo 240</td>\n",
       "    </tr>\n",
       "    <tr>\n",
       "      <th>92</th>\n",
       "      <td>NaN</td>\n",
       "      <td>850</td>\n",
       "      <td>Midsize</td>\n",
       "      <td>24.8</td>\n",
       "      <td>26.7</td>\n",
       "      <td>...</td>\n",
       "      <td>30.0</td>\n",
       "      <td>15.0</td>\n",
       "      <td>3245.0</td>\n",
       "      <td>non-USA</td>\n",
       "      <td>Volvo 850</td>\n",
       "    </tr>\n",
       "  </tbody>\n",
       "</table>\n",
       "<p>93 rows × 27 columns</p>\n",
       "</div>"
      ],
      "text/plain": [
       "   Manufacturer    Model     Type  Min.Price  Price  ...  Rear.seat.room  \\\n",
       "0         Acura  Integra    Small       12.9   15.9  ...            26.5   \n",
       "1           NaN   Legend  Midsize       29.2   33.9  ...            30.0   \n",
       "2          Audi       90  Compact       25.9   29.1  ...            28.0   \n",
       "3          Audi      100  Midsize        NaN   37.7  ...            31.0   \n",
       "4           BMW     535i  Midsize        NaN   30.0  ...            27.0   \n",
       "..          ...      ...      ...        ...    ...  ...             ...   \n",
       "88   Volkswagen  Eurovan      Van       16.6   19.7  ...            34.0   \n",
       "89   Volkswagen   Passat  Compact       17.6   20.0  ...            31.5   \n",
       "90   Volkswagen  Corrado   Sporty       22.9   23.3  ...            26.0   \n",
       "91        Volvo      240  Compact       21.8   22.7  ...            29.5   \n",
       "92          NaN      850  Midsize       24.8   26.7  ...            30.0   \n",
       "\n",
       "    Luggage.room  Weight   Origin                Make  \n",
       "0            NaN  2705.0  non-USA       Acura Integra  \n",
       "1           15.0  3560.0  non-USA        Acura Legend  \n",
       "2           14.0  3375.0  non-USA             Audi 90  \n",
       "3           17.0  3405.0  non-USA            Audi 100  \n",
       "4           13.0  3640.0  non-USA            BMW 535i  \n",
       "..           ...     ...      ...                 ...  \n",
       "88           NaN  3960.0      NaN  Volkswagen Eurovan  \n",
       "89          14.0  2985.0  non-USA   Volkswagen Passat  \n",
       "90          15.0  2810.0  non-USA  Volkswagen Corrado  \n",
       "91          14.0  2985.0  non-USA           Volvo 240  \n",
       "92          15.0  3245.0  non-USA           Volvo 850  \n",
       "\n",
       "[93 rows x 27 columns]"
      ]
     },
     "execution_count": 17,
     "metadata": {},
     "output_type": "execute_result"
    }
   ],
   "source": [
    "df =pd.read_csv('https://raw.githubusercontent.com/selva86/datasets/master/Cars93_miss.csv')\n",
    "pd.set_option('display.max_columns', 10)\n",
    "pd.set_option('display.max_rows', 10)\n",
    "df "
   ]
  },
  {
   "cell_type": "markdown",
   "id": "1aa708b9-1c6a-4eba-b609-6833bbb60af2",
   "metadata": {},
   "source": [
    "## Упражнение № 46\n",
    "\n",
    "Исключите вывод научной нотации типа 'e-03' в `df` и выведите до 4 чисел после запятой.\n",
    "\n",
    "Пример входных данных:\n",
    "\n",
    "```python\n",
    "df = pd.DataFrame(np.random.random(4)**10, columns=['random'])\n",
    "df\n",
    "#>          random\n",
    "#> 0  3.474280e-03\n",
    "#> 1  3.951517e-05\n",
    "#> 2  7.469702e-02\n",
    "#> 3  5.541282e-28\n",
    "```\n",
    "\n",
    "Пример выходных данных:\n",
    "\n",
    "```python\n",
    "#>    random\n",
    "#> 0  0.0035\n",
    "#> 1  0.0000\n",
    "#> 2  0.0747\n",
    "#> 3  0.0000\n",
    "```"
   ]
  },
  {
   "cell_type": "code",
   "execution_count": 21,
   "id": "d7b9f52b-c718-463a-b7c9-69eecfa14cf1",
   "metadata": {},
   "outputs": [
    {
     "data": {
      "text/html": [
       "<div>\n",
       "<style scoped>\n",
       "    .dataframe tbody tr th:only-of-type {\n",
       "        vertical-align: middle;\n",
       "    }\n",
       "\n",
       "    .dataframe tbody tr th {\n",
       "        vertical-align: top;\n",
       "    }\n",
       "\n",
       "    .dataframe thead th {\n",
       "        text-align: right;\n",
       "    }\n",
       "</style>\n",
       "<table border=\"1\" class=\"dataframe\">\n",
       "  <thead>\n",
       "    <tr style=\"text-align: right;\">\n",
       "      <th></th>\n",
       "      <th>random</th>\n",
       "    </tr>\n",
       "  </thead>\n",
       "  <tbody>\n",
       "    <tr>\n",
       "      <th>0</th>\n",
       "      <td>0.0000</td>\n",
       "    </tr>\n",
       "    <tr>\n",
       "      <th>1</th>\n",
       "      <td>0.8517</td>\n",
       "    </tr>\n",
       "    <tr>\n",
       "      <th>2</th>\n",
       "      <td>0.0000</td>\n",
       "    </tr>\n",
       "    <tr>\n",
       "      <th>3</th>\n",
       "      <td>0.0000</td>\n",
       "    </tr>\n",
       "  </tbody>\n",
       "</table>\n",
       "</div>"
      ],
      "text/plain": [
       "   random\n",
       "0  0.0000\n",
       "1  0.8517\n",
       "2  0.0000\n",
       "3  0.0000"
      ]
     },
     "execution_count": 21,
     "metadata": {},
     "output_type": "execute_result"
    }
   ],
   "source": [
    "df = pd.DataFrame(np.random.random(4)**10, columns=['random'])\n",
    "round(df,4)"
   ]
  },
  {
   "cell_type": "markdown",
   "id": "40c0d307-02a4-4f55-9223-5796dc587b24",
   "metadata": {},
   "source": [
    "## Упражнение № 47\n",
    "\n",
    "Отформатируйте значения в столбце `'random'` из `df` в виде процентов.\n",
    "\n",
    "Пример входных данных:\n",
    "\n",
    "```python\n",
    "df = pd.DataFrame(np.random.random(4), columns=['random'])\n",
    "df\n",
    "#>      random\n",
    "#> 0    .689723\n",
    "#> 1    .957224\n",
    "#> 2    .159157\n",
    "#> 3    .21082\n",
    "```\n",
    "\n",
    "Пример выходных данных:\n",
    "\n",
    "```python\n",
    "#>      random\n",
    "#> 0    68.97%\n",
    "#> 1    95.72%\n",
    "#> 2    15.91%\n",
    "#> 3    2.10%\n",
    "```"
   ]
  },
  {
   "cell_type": "code",
   "execution_count": 22,
   "id": "5940b7e5-ac7d-43b6-b87a-e8763b567e72",
   "metadata": {},
   "outputs": [
    {
     "data": {
      "text/html": [
       "<div>\n",
       "<style scoped>\n",
       "    .dataframe tbody tr th:only-of-type {\n",
       "        vertical-align: middle;\n",
       "    }\n",
       "\n",
       "    .dataframe tbody tr th {\n",
       "        vertical-align: top;\n",
       "    }\n",
       "\n",
       "    .dataframe thead th {\n",
       "        text-align: right;\n",
       "    }\n",
       "</style>\n",
       "<table border=\"1\" class=\"dataframe\">\n",
       "  <thead>\n",
       "    <tr style=\"text-align: right;\">\n",
       "      <th></th>\n",
       "      <th>random</th>\n",
       "    </tr>\n",
       "  </thead>\n",
       "  <tbody>\n",
       "    <tr>\n",
       "      <th>0</th>\n",
       "      <td>26.0%</td>\n",
       "    </tr>\n",
       "    <tr>\n",
       "      <th>1</th>\n",
       "      <td>82.05%</td>\n",
       "    </tr>\n",
       "    <tr>\n",
       "      <th>2</th>\n",
       "      <td>9.07%</td>\n",
       "    </tr>\n",
       "    <tr>\n",
       "      <th>3</th>\n",
       "      <td>85.49%</td>\n",
       "    </tr>\n",
       "  </tbody>\n",
       "</table>\n",
       "</div>"
      ],
      "text/plain": [
       "   random\n",
       "0   26.0%\n",
       "1  82.05%\n",
       "2   9.07%\n",
       "3  85.49%"
      ]
     },
     "execution_count": 22,
     "metadata": {},
     "output_type": "execute_result"
    }
   ],
   "source": [
    "df = pd.DataFrame(np.random.random(4), columns=['random'])\n",
    "\n",
    "df = (df['random']*100).round(2).astype(str) + '%'\n",
    "df.to_frame()"
   ]
  },
  {
   "cell_type": "markdown",
   "id": "dcdbe792-68fa-42d7-999e-af5e6b31ca17",
   "metadata": {},
   "source": [
    "## Упражнение № 48\n",
    "\n",
    "Из `df` отфильтруйте значения `Manufacturer`, `Model` и `Type` для каждой 20-й строки, начиная с 1-й (строка 0).\n",
    "\n",
    "Пример входных данных:\n",
    "\n",
    "```python\n",
    "df = pd.read_csv('https://raw.githubusercontent.com/selva86/datasets/master/Cars93_miss.csv')\n",
    "```"
   ]
  },
  {
   "cell_type": "code",
   "execution_count": 23,
   "id": "8082189e-04cc-4694-9c78-98937a64099f",
   "metadata": {},
   "outputs": [
    {
     "data": {
      "text/html": [
       "<div>\n",
       "<style scoped>\n",
       "    .dataframe tbody tr th:only-of-type {\n",
       "        vertical-align: middle;\n",
       "    }\n",
       "\n",
       "    .dataframe tbody tr th {\n",
       "        vertical-align: top;\n",
       "    }\n",
       "\n",
       "    .dataframe thead th {\n",
       "        text-align: right;\n",
       "    }\n",
       "</style>\n",
       "<table border=\"1\" class=\"dataframe\">\n",
       "  <thead>\n",
       "    <tr style=\"text-align: right;\">\n",
       "      <th></th>\n",
       "      <th>Manufacturer</th>\n",
       "      <th>Model</th>\n",
       "      <th>Type</th>\n",
       "    </tr>\n",
       "  </thead>\n",
       "  <tbody>\n",
       "    <tr>\n",
       "      <th>0</th>\n",
       "      <td>Acura</td>\n",
       "      <td>Integra</td>\n",
       "      <td>Small</td>\n",
       "    </tr>\n",
       "    <tr>\n",
       "      <th>20</th>\n",
       "      <td>Chrysler</td>\n",
       "      <td>LeBaron</td>\n",
       "      <td>Compact</td>\n",
       "    </tr>\n",
       "    <tr>\n",
       "      <th>40</th>\n",
       "      <td>Honda</td>\n",
       "      <td>Prelude</td>\n",
       "      <td>Sporty</td>\n",
       "    </tr>\n",
       "    <tr>\n",
       "      <th>60</th>\n",
       "      <td>Mercury</td>\n",
       "      <td>Cougar</td>\n",
       "      <td>Midsize</td>\n",
       "    </tr>\n",
       "    <tr>\n",
       "      <th>80</th>\n",
       "      <td>Subaru</td>\n",
       "      <td>Loyale</td>\n",
       "      <td>Small</td>\n",
       "    </tr>\n",
       "  </tbody>\n",
       "</table>\n",
       "</div>"
      ],
      "text/plain": [
       "   Manufacturer    Model     Type\n",
       "0         Acura  Integra    Small\n",
       "20     Chrysler  LeBaron  Compact\n",
       "40        Honda  Prelude   Sporty\n",
       "60      Mercury   Cougar  Midsize\n",
       "80       Subaru   Loyale    Small"
      ]
     },
     "execution_count": 23,
     "metadata": {},
     "output_type": "execute_result"
    }
   ],
   "source": [
    "df=pd.read_csv('https://raw.githubusercontent.com/selva86/datasets/master/Cars93_miss.csv',usecols=['Manufacturer','Model','Type'])\n",
    "\n",
    "df.filter(items=[i for i in range(0,df.__len__(),20)],axis=0)"
   ]
  },
  {
   "cell_type": "markdown",
   "id": "ad3c3613-499b-4f84-bc0f-d1cb2e93cf66",
   "metadata": {},
   "source": [
    "## Упражнение № 49\n",
    "\n",
    "В `df` замените `NaN` на `missing` в столбцах `Manufacturer`, `Model` и `Type` , создайте индекс как комбинацию этих трех столбцов и проверьте, является ли этот индекс первичным ключом.\n",
    "\n",
    "Пример входных данных:\n",
    "\n",
    "```python\n",
    "df = pd.read_csv('https://raw.githubusercontent.com/selva86/datasets/master/Cars93_miss.csv', usecols=[0,1,2,3,5])\n",
    "```\n",
    "\n",
    "Пример выходных данных:\n",
    "\n",
    "```\n",
    "                       Manufacturer    Model     Type  Min.Price  Max.Price\n",
    "Acura_Integra_Small           Acura  Integra    Small       12.9       18.8\n",
    "missing_Legend_Midsize      missing   Legend  Midsize       29.2       38.7\n",
    "Audi_90_Compact                Audi       90  Compact       25.9       32.3\n",
    "Audi_100_Midsize               Audi      100  Midsize        NaN       44.6\n",
    "BMW_535i_Midsize                BMW     535i  Midsize        NaN        NaN\n",
    "```"
   ]
  },
  {
   "cell_type": "code",
   "execution_count": 26,
   "id": "beaf703a-1b72-41c7-bc9d-2164f018bbce",
   "metadata": {},
   "outputs": [
    {
     "data": {
      "text/html": [
       "<div>\n",
       "<style scoped>\n",
       "    .dataframe tbody tr th:only-of-type {\n",
       "        vertical-align: middle;\n",
       "    }\n",
       "\n",
       "    .dataframe tbody tr th {\n",
       "        vertical-align: top;\n",
       "    }\n",
       "\n",
       "    .dataframe thead th {\n",
       "        text-align: right;\n",
       "    }\n",
       "</style>\n",
       "<table border=\"1\" class=\"dataframe\">\n",
       "  <thead>\n",
       "    <tr style=\"text-align: right;\">\n",
       "      <th></th>\n",
       "      <th>Manufacturer</th>\n",
       "      <th>Model</th>\n",
       "      <th>Type</th>\n",
       "      <th>Min.Price</th>\n",
       "      <th>Max.Price</th>\n",
       "    </tr>\n",
       "  </thead>\n",
       "  <tbody>\n",
       "    <tr>\n",
       "      <th>0</th>\n",
       "      <td>Acura</td>\n",
       "      <td>Integra</td>\n",
       "      <td>Small</td>\n",
       "      <td>12.9000</td>\n",
       "      <td>18.8000</td>\n",
       "    </tr>\n",
       "    <tr>\n",
       "      <th>1</th>\n",
       "      <td>missing</td>\n",
       "      <td>Legend</td>\n",
       "      <td>Midsize</td>\n",
       "      <td>29.2000</td>\n",
       "      <td>38.7000</td>\n",
       "    </tr>\n",
       "    <tr>\n",
       "      <th>2</th>\n",
       "      <td>Audi</td>\n",
       "      <td>90</td>\n",
       "      <td>Compact</td>\n",
       "      <td>25.9000</td>\n",
       "      <td>32.3000</td>\n",
       "    </tr>\n",
       "    <tr>\n",
       "      <th>3</th>\n",
       "      <td>Audi</td>\n",
       "      <td>100</td>\n",
       "      <td>Midsize</td>\n",
       "      <td>NaN</td>\n",
       "      <td>44.6000</td>\n",
       "    </tr>\n",
       "    <tr>\n",
       "      <th>4</th>\n",
       "      <td>BMW</td>\n",
       "      <td>535i</td>\n",
       "      <td>Midsize</td>\n",
       "      <td>NaN</td>\n",
       "      <td>NaN</td>\n",
       "    </tr>\n",
       "    <tr>\n",
       "      <th>...</th>\n",
       "      <td>...</td>\n",
       "      <td>...</td>\n",
       "      <td>...</td>\n",
       "      <td>...</td>\n",
       "      <td>...</td>\n",
       "    </tr>\n",
       "    <tr>\n",
       "      <th>88</th>\n",
       "      <td>Volkswagen</td>\n",
       "      <td>Eurovan</td>\n",
       "      <td>Van</td>\n",
       "      <td>16.6000</td>\n",
       "      <td>22.7000</td>\n",
       "    </tr>\n",
       "    <tr>\n",
       "      <th>89</th>\n",
       "      <td>Volkswagen</td>\n",
       "      <td>Passat</td>\n",
       "      <td>Compact</td>\n",
       "      <td>17.6000</td>\n",
       "      <td>22.4000</td>\n",
       "    </tr>\n",
       "    <tr>\n",
       "      <th>90</th>\n",
       "      <td>Volkswagen</td>\n",
       "      <td>Corrado</td>\n",
       "      <td>Sporty</td>\n",
       "      <td>22.9000</td>\n",
       "      <td>23.7000</td>\n",
       "    </tr>\n",
       "    <tr>\n",
       "      <th>91</th>\n",
       "      <td>Volvo</td>\n",
       "      <td>240</td>\n",
       "      <td>Compact</td>\n",
       "      <td>21.8000</td>\n",
       "      <td>23.5000</td>\n",
       "    </tr>\n",
       "    <tr>\n",
       "      <th>92</th>\n",
       "      <td>missing</td>\n",
       "      <td>850</td>\n",
       "      <td>Midsize</td>\n",
       "      <td>24.8000</td>\n",
       "      <td>28.5000</td>\n",
       "    </tr>\n",
       "  </tbody>\n",
       "</table>\n",
       "<p>93 rows × 5 columns</p>\n",
       "</div>"
      ],
      "text/plain": [
       "   Manufacturer    Model     Type  Min.Price  Max.Price\n",
       "0         Acura  Integra    Small    12.9000    18.8000\n",
       "1       missing   Legend  Midsize    29.2000    38.7000\n",
       "2          Audi       90  Compact    25.9000    32.3000\n",
       "3          Audi      100  Midsize        NaN    44.6000\n",
       "4           BMW     535i  Midsize        NaN        NaN\n",
       "..          ...      ...      ...        ...        ...\n",
       "88   Volkswagen  Eurovan      Van    16.6000    22.7000\n",
       "89   Volkswagen   Passat  Compact    17.6000    22.4000\n",
       "90   Volkswagen  Corrado   Sporty    22.9000    23.7000\n",
       "91        Volvo      240  Compact    21.8000    23.5000\n",
       "92      missing      850  Midsize    24.8000    28.5000\n",
       "\n",
       "[93 rows x 5 columns]"
      ]
     },
     "execution_count": 26,
     "metadata": {},
     "output_type": "execute_result"
    }
   ],
   "source": [
    "df =pd.read_csv('https://raw.githubusercontent.com/selva86/datasets/master/Cars93_miss.csv', usecols=[0,1,2,3,5])\n",
    "\n",
    "df[['Manufacturer','Model','Type']] = df[['Manufacturer','Model','Type']].fillna('missing')\n",
    "df"
   ]
  },
  {
   "cell_type": "markdown",
   "id": "7973d7bf-168e-4e04-8300-5f4e301c3d45",
   "metadata": {},
   "source": [
    "## Упражнение № 50\n",
    "\n",
    "Найти положение строки с 5-м наибольшим значением столбца `'a'` в `df`.\n",
    "\n",
    "Пример входных данных:\n",
    "\n",
    "```python\n",
    "df = pd.DataFrame(np.random.randint(1, 30, 30).reshape(10,-1), columns=list('abc'))\n",
    "```"
   ]
  },
  {
   "cell_type": "code",
   "execution_count": 27,
   "id": "7cc7c9de-b99d-46dc-9676-71bb7f4b4f7d",
   "metadata": {},
   "outputs": [
    {
     "name": "stdout",
     "output_type": "stream",
     "text": [
      "    a   b   c\n",
      "0  16  17  11\n",
      "1  23  22  13\n",
      "2  12  20   7\n",
      "3  15   1  13\n",
      "4  25  24   8\n",
      "5  12  19   4\n",
      "6  11  21  18\n",
      "7  11  21  19\n",
      "8  29  18  11\n",
      "9  22   1   8\n",
      "Строка с 5-м наибольшим значением в столбце 'a': 0\n"
     ]
    }
   ],
   "source": [
    "df = pd.DataFrame(np.random.randint(1, 30, 30).reshape(10, -1), columns=list('abc'))\n",
    "print(df)\n",
    "print(f\"Строка с 5-м наибольшим значением в столбце 'a': {df['a'].nlargest(5).index[-1]}\")"
   ]
  },
  {
   "cell_type": "markdown",
   "id": "19889804-e166-40ea-88fc-d9e8f99928ff",
   "metadata": {},
   "source": [
    "## Упражнение № 51\n",
    "\n",
    "В `ser` найдите положение 2-го наибольшего значения, превышающего среднее.\n",
    "\n",
    "Пример входных данных:\n",
    "\n",
    "```python\n",
    "ser = pd.Series(np.random.randint(1, 100, 15))\n",
    "```"
   ]
  },
  {
   "cell_type": "code",
   "execution_count": 28,
   "id": "78daf765-21d7-4cf3-96c1-b09c407cd4b7",
   "metadata": {},
   "outputs": [
    {
     "name": "stdout",
     "output_type": "stream",
     "text": [
      "5\n"
     ]
    }
   ],
   "source": [
    "ser = pd.Series(np.random.randint(1, 100, 15))\n",
    "mean_value = ser.mean()\n",
    "second_largest = ser[ser > mean_value].nlargest(2).index[-1]\n",
    "print(second_largest)"
   ]
  },
  {
   "cell_type": "markdown",
   "id": "065831ea-602a-42f3-a18a-496d2e33f894",
   "metadata": {},
   "source": [
    "## Упражнение № 52\n",
    "\n",
    "Получите две последние строки `df`, сумма строк которых больше 100.\n",
    "\n",
    "```python\n",
    "df = pd.DataFrame(np.random.randint(10, 40, 60).reshape(-1, 4))\n",
    "```"
   ]
  },
  {
   "cell_type": "code",
   "execution_count": 29,
   "id": "81c0019a-eb9a-48e8-b18d-691977bd9cb7",
   "metadata": {},
   "outputs": [
    {
     "data": {
      "text/html": [
       "<div>\n",
       "<style scoped>\n",
       "    .dataframe tbody tr th:only-of-type {\n",
       "        vertical-align: middle;\n",
       "    }\n",
       "\n",
       "    .dataframe tbody tr th {\n",
       "        vertical-align: top;\n",
       "    }\n",
       "\n",
       "    .dataframe thead th {\n",
       "        text-align: right;\n",
       "    }\n",
       "</style>\n",
       "<table border=\"1\" class=\"dataframe\">\n",
       "  <thead>\n",
       "    <tr style=\"text-align: right;\">\n",
       "      <th></th>\n",
       "      <th>0</th>\n",
       "      <th>1</th>\n",
       "      <th>2</th>\n",
       "      <th>3</th>\n",
       "    </tr>\n",
       "  </thead>\n",
       "  <tbody>\n",
       "    <tr>\n",
       "      <th>7</th>\n",
       "      <td>36</td>\n",
       "      <td>36</td>\n",
       "      <td>28</td>\n",
       "      <td>36</td>\n",
       "    </tr>\n",
       "    <tr>\n",
       "      <th>12</th>\n",
       "      <td>27</td>\n",
       "      <td>20</td>\n",
       "      <td>37</td>\n",
       "      <td>28</td>\n",
       "    </tr>\n",
       "  </tbody>\n",
       "</table>\n",
       "</div>"
      ],
      "text/plain": [
       "     0   1   2   3\n",
       "7   36  36  28  36\n",
       "12  27  20  37  28"
      ]
     },
     "execution_count": 29,
     "metadata": {},
     "output_type": "execute_result"
    }
   ],
   "source": [
    "df = pd.DataFrame(np.random.randint(10, 40, 60).reshape(-1, 4))\n",
    "df[df.sum(axis=1) > 100].tail(2)"
   ]
  },
  {
   "cell_type": "markdown",
   "id": "970b941e-5743-4161-a7ab-a460f0784194",
   "metadata": {},
   "source": [
    "## Упражнение № 53\n",
    "\n",
    "Замените все значения `ser`, находящиеся ниже 5%-ного и выше 95%-ного перцентиля, на соответствующие значения 5-го и 95-го перцентиля.\n",
    "\n",
    "Пример входных данных:\n",
    "\n",
    "```python\n",
    "ser = pd.Series(np.logspace(-2, 2, 30))\n",
    "```"
   ]
  },
  {
   "cell_type": "code",
   "execution_count": 30,
   "id": "17a780ef-cd77-4607-8ab9-ae3762b9a079",
   "metadata": {},
   "outputs": [
    {
     "name": "stdout",
     "output_type": "stream",
     "text": [
      "0     0.0160\n",
      "1     0.0160\n",
      "2     0.0189\n",
      "3     0.0259\n",
      "4     0.0356\n",
      "       ...  \n",
      "25   28.0722\n",
      "26   38.5662\n",
      "27   52.9832\n",
      "28   63.8767\n",
      "29   63.8767\n",
      "Length: 30, dtype: float64\n"
     ]
    }
   ],
   "source": [
    "ser = pd.Series(np.logspace(-2, 2, 30))\n",
    "\n",
    "percentile_5 = np.percentile(ser, 5)\n",
    "percentile_95 = np.percentile(ser, 95)\n",
    "ser = ser.apply(lambda x: percentile_5 if x < percentile_5 else (percentile_95 if x > percentile_95 else x))\n",
    "\n",
    "print(ser)"
   ]
  },
  {
   "cell_type": "markdown",
   "id": "fbbd6fe7-ec91-4252-b0d8-571135d3828a",
   "metadata": {},
   "source": [
    "## Упражнение № 54\n",
    "\n",
    "Перестройте `df` в максимально возможный квадрат с удалением отрицательных значений. При необходимости отбросьте наименьшие значения. Порядок положительных чисел в результате должен остаться тем же, что и в исходном варианте.\n",
    "\n",
    "Пример входных данных:\n",
    "\n",
    "```python\n",
    "df = pd.DataFrame(np.random.randint(-20, 50, 100).reshape(10,-1))\n",
    "```"
   ]
  },
  {
   "cell_type": "code",
   "execution_count": 31,
   "id": "d61c9571-057b-4d14-8f94-edaf635d9d93",
   "metadata": {},
   "outputs": [
    {
     "data": {
      "text/html": [
       "<div>\n",
       "<style scoped>\n",
       "    .dataframe tbody tr th:only-of-type {\n",
       "        vertical-align: middle;\n",
       "    }\n",
       "\n",
       "    .dataframe tbody tr th {\n",
       "        vertical-align: top;\n",
       "    }\n",
       "\n",
       "    .dataframe thead th {\n",
       "        text-align: right;\n",
       "    }\n",
       "</style>\n",
       "<table border=\"1\" class=\"dataframe\">\n",
       "  <thead>\n",
       "    <tr style=\"text-align: right;\">\n",
       "      <th></th>\n",
       "      <th>0</th>\n",
       "      <th>1</th>\n",
       "      <th>2</th>\n",
       "      <th>3</th>\n",
       "      <th>4</th>\n",
       "      <th>5</th>\n",
       "      <th>6</th>\n",
       "      <th>7</th>\n",
       "      <th>8</th>\n",
       "      <th>9</th>\n",
       "    </tr>\n",
       "  </thead>\n",
       "  <tbody>\n",
       "    <tr>\n",
       "      <th>0</th>\n",
       "      <td>NaN</td>\n",
       "      <td>NaN</td>\n",
       "      <td>20.0000</td>\n",
       "      <td>43.0000</td>\n",
       "      <td>36.0000</td>\n",
       "      <td>38.0000</td>\n",
       "      <td>NaN</td>\n",
       "      <td>19.0000</td>\n",
       "      <td>16.0000</td>\n",
       "      <td>1.0000</td>\n",
       "    </tr>\n",
       "    <tr>\n",
       "      <th>1</th>\n",
       "      <td>5.0000</td>\n",
       "      <td>NaN</td>\n",
       "      <td>7.0000</td>\n",
       "      <td>NaN</td>\n",
       "      <td>47.0000</td>\n",
       "      <td>NaN</td>\n",
       "      <td>NaN</td>\n",
       "      <td>NaN</td>\n",
       "      <td>NaN</td>\n",
       "      <td>29.0000</td>\n",
       "    </tr>\n",
       "    <tr>\n",
       "      <th>2</th>\n",
       "      <td>NaN</td>\n",
       "      <td>3.0000</td>\n",
       "      <td>15.0000</td>\n",
       "      <td>26.0000</td>\n",
       "      <td>37.0000</td>\n",
       "      <td>49.0000</td>\n",
       "      <td>32.0000</td>\n",
       "      <td>5.0000</td>\n",
       "      <td>NaN</td>\n",
       "      <td>NaN</td>\n",
       "    </tr>\n",
       "    <tr>\n",
       "      <th>3</th>\n",
       "      <td>NaN</td>\n",
       "      <td>NaN</td>\n",
       "      <td>16.0000</td>\n",
       "      <td>11.0000</td>\n",
       "      <td>28.0000</td>\n",
       "      <td>38.0000</td>\n",
       "      <td>NaN</td>\n",
       "      <td>NaN</td>\n",
       "      <td>13.0000</td>\n",
       "      <td>20.0000</td>\n",
       "    </tr>\n",
       "    <tr>\n",
       "      <th>4</th>\n",
       "      <td>17.0000</td>\n",
       "      <td>2.0000</td>\n",
       "      <td>NaN</td>\n",
       "      <td>16.0000</td>\n",
       "      <td>46.0000</td>\n",
       "      <td>6.0000</td>\n",
       "      <td>45.0000</td>\n",
       "      <td>3.0000</td>\n",
       "      <td>26.0000</td>\n",
       "      <td>20.0000</td>\n",
       "    </tr>\n",
       "    <tr>\n",
       "      <th>5</th>\n",
       "      <td>12.0000</td>\n",
       "      <td>33.0000</td>\n",
       "      <td>47.0000</td>\n",
       "      <td>NaN</td>\n",
       "      <td>3.0000</td>\n",
       "      <td>38.0000</td>\n",
       "      <td>NaN</td>\n",
       "      <td>NaN</td>\n",
       "      <td>NaN</td>\n",
       "      <td>NaN</td>\n",
       "    </tr>\n",
       "    <tr>\n",
       "      <th>6</th>\n",
       "      <td>42.0000</td>\n",
       "      <td>NaN</td>\n",
       "      <td>20.0000</td>\n",
       "      <td>35.0000</td>\n",
       "      <td>5.0000</td>\n",
       "      <td>NaN</td>\n",
       "      <td>24.0000</td>\n",
       "      <td>16.0000</td>\n",
       "      <td>38.0000</td>\n",
       "      <td>NaN</td>\n",
       "    </tr>\n",
       "    <tr>\n",
       "      <th>7</th>\n",
       "      <td>27.0000</td>\n",
       "      <td>45.0000</td>\n",
       "      <td>6.0000</td>\n",
       "      <td>6.0000</td>\n",
       "      <td>2.0000</td>\n",
       "      <td>40.0000</td>\n",
       "      <td>27.0000</td>\n",
       "      <td>21.0000</td>\n",
       "      <td>46.0000</td>\n",
       "      <td>21.0000</td>\n",
       "    </tr>\n",
       "    <tr>\n",
       "      <th>8</th>\n",
       "      <td>36.0000</td>\n",
       "      <td>46.0000</td>\n",
       "      <td>38.0000</td>\n",
       "      <td>3.0000</td>\n",
       "      <td>13.0000</td>\n",
       "      <td>12.0000</td>\n",
       "      <td>6.0000</td>\n",
       "      <td>38.0000</td>\n",
       "      <td>32.0000</td>\n",
       "      <td>39.0000</td>\n",
       "    </tr>\n",
       "    <tr>\n",
       "      <th>9</th>\n",
       "      <td>47.0000</td>\n",
       "      <td>46.0000</td>\n",
       "      <td>17.0000</td>\n",
       "      <td>43.0000</td>\n",
       "      <td>26.0000</td>\n",
       "      <td>NaN</td>\n",
       "      <td>27.0000</td>\n",
       "      <td>43.0000</td>\n",
       "      <td>8.0000</td>\n",
       "      <td>22.0000</td>\n",
       "    </tr>\n",
       "  </tbody>\n",
       "</table>\n",
       "</div>"
      ],
      "text/plain": [
       "        0       1       2       3       4       5       6       7       8  \\\n",
       "0     NaN     NaN 20.0000 43.0000 36.0000 38.0000     NaN 19.0000 16.0000   \n",
       "1  5.0000     NaN  7.0000     NaN 47.0000     NaN     NaN     NaN     NaN   \n",
       "2     NaN  3.0000 15.0000 26.0000 37.0000 49.0000 32.0000  5.0000     NaN   \n",
       "3     NaN     NaN 16.0000 11.0000 28.0000 38.0000     NaN     NaN 13.0000   \n",
       "4 17.0000  2.0000     NaN 16.0000 46.0000  6.0000 45.0000  3.0000 26.0000   \n",
       "5 12.0000 33.0000 47.0000     NaN  3.0000 38.0000     NaN     NaN     NaN   \n",
       "6 42.0000     NaN 20.0000 35.0000  5.0000     NaN 24.0000 16.0000 38.0000   \n",
       "7 27.0000 45.0000  6.0000  6.0000  2.0000 40.0000 27.0000 21.0000 46.0000   \n",
       "8 36.0000 46.0000 38.0000  3.0000 13.0000 12.0000  6.0000 38.0000 32.0000   \n",
       "9 47.0000 46.0000 17.0000 43.0000 26.0000     NaN 27.0000 43.0000  8.0000   \n",
       "\n",
       "        9  \n",
       "0  1.0000  \n",
       "1 29.0000  \n",
       "2     NaN  \n",
       "3 20.0000  \n",
       "4 20.0000  \n",
       "5     NaN  \n",
       "6     NaN  \n",
       "7 21.0000  \n",
       "8 39.0000  \n",
       "9 22.0000  "
      ]
     },
     "execution_count": 31,
     "metadata": {},
     "output_type": "execute_result"
    }
   ],
   "source": [
    "df = pd.DataFrame(np.random.randint(-20, 50, 100).reshape(10,-1))\n",
    "positive = df[df > 0].values.flatten()\n",
    "n = int(np.sqrt(positive.__len__()))\n",
    "pd.DataFrame(positive[:n*n].reshape(n, n))"
   ]
  },
  {
   "cell_type": "markdown",
   "id": "bd713c6f-7f51-4be9-a79f-349870726de7",
   "metadata": {},
   "source": [
    "## Упражнение № 55\n",
    "\n",
    "Поменяйте местами строки 1 и 2 в `df`.\n",
    "\n",
    "Пример входных данных:\n",
    "\n",
    "```python\n",
    "df = pd.DataFrame(np.arange(25).reshape(5, -1))\n",
    "```"
   ]
  },
  {
   "cell_type": "code",
   "execution_count": 32,
   "id": "c4635801-2173-4d3c-9649-32fcf254e721",
   "metadata": {},
   "outputs": [
    {
     "data": {
      "text/html": [
       "<div>\n",
       "<style scoped>\n",
       "    .dataframe tbody tr th:only-of-type {\n",
       "        vertical-align: middle;\n",
       "    }\n",
       "\n",
       "    .dataframe tbody tr th {\n",
       "        vertical-align: top;\n",
       "    }\n",
       "\n",
       "    .dataframe thead th {\n",
       "        text-align: right;\n",
       "    }\n",
       "</style>\n",
       "<table border=\"1\" class=\"dataframe\">\n",
       "  <thead>\n",
       "    <tr style=\"text-align: right;\">\n",
       "      <th></th>\n",
       "      <th>0</th>\n",
       "      <th>1</th>\n",
       "      <th>2</th>\n",
       "      <th>3</th>\n",
       "      <th>4</th>\n",
       "    </tr>\n",
       "  </thead>\n",
       "  <tbody>\n",
       "    <tr>\n",
       "      <th>0</th>\n",
       "      <td>5</td>\n",
       "      <td>6</td>\n",
       "      <td>7</td>\n",
       "      <td>8</td>\n",
       "      <td>9</td>\n",
       "    </tr>\n",
       "    <tr>\n",
       "      <th>1</th>\n",
       "      <td>0</td>\n",
       "      <td>1</td>\n",
       "      <td>2</td>\n",
       "      <td>3</td>\n",
       "      <td>4</td>\n",
       "    </tr>\n",
       "    <tr>\n",
       "      <th>2</th>\n",
       "      <td>10</td>\n",
       "      <td>11</td>\n",
       "      <td>12</td>\n",
       "      <td>13</td>\n",
       "      <td>14</td>\n",
       "    </tr>\n",
       "    <tr>\n",
       "      <th>3</th>\n",
       "      <td>15</td>\n",
       "      <td>16</td>\n",
       "      <td>17</td>\n",
       "      <td>18</td>\n",
       "      <td>19</td>\n",
       "    </tr>\n",
       "    <tr>\n",
       "      <th>4</th>\n",
       "      <td>20</td>\n",
       "      <td>21</td>\n",
       "      <td>22</td>\n",
       "      <td>23</td>\n",
       "      <td>24</td>\n",
       "    </tr>\n",
       "  </tbody>\n",
       "</table>\n",
       "</div>"
      ],
      "text/plain": [
       "    0   1   2   3   4\n",
       "0   5   6   7   8   9\n",
       "1   0   1   2   3   4\n",
       "2  10  11  12  13  14\n",
       "3  15  16  17  18  19\n",
       "4  20  21  22  23  24"
      ]
     },
     "execution_count": 32,
     "metadata": {},
     "output_type": "execute_result"
    }
   ],
   "source": [
    "df = pd.DataFrame(np.arange(25).reshape(5, -1))\n",
    "df[:2] = df[:2][::-1]\n",
    "df"
   ]
  },
  {
   "cell_type": "markdown",
   "id": "ec199950-f513-4c5b-95f9-2827c7be714a",
   "metadata": {},
   "source": [
    "## Упражнение № 56\n",
    "\n",
    "Переверните строки датафрейма `df` (первая строка становится последней).\n",
    "\n",
    "Пример входных данных:\n",
    "\n",
    "```python\n",
    "df = pd.DataFrame(np.arange(25).reshape(5, -1))\n",
    "```\n"
   ]
  },
  {
   "cell_type": "code",
   "execution_count": 33,
   "id": "37cb5455-b922-4e0f-a4bc-2355f948b866",
   "metadata": {},
   "outputs": [
    {
     "name": "stdout",
     "output_type": "stream",
     "text": [
      "    0   1   2   3   4\n",
      "4  20  21  22  23  24\n",
      "3  15  16  17  18  19\n",
      "2  10  11  12  13  14\n",
      "1   5   6   7   8   9\n",
      "0   0   1   2   3   4\n"
     ]
    }
   ],
   "source": [
    "df = pd.DataFrame(np.arange(25).reshape(5, -1))\n",
    "df = df.iloc[::-1]\n",
    "print(df)"
   ]
  },
  {
   "cell_type": "markdown",
   "id": "f8d49e69-d547-41a9-94a0-cfc72570d5e5",
   "metadata": {},
   "source": [
    "## Упражнение № 57\n",
    "\n",
    "Получите бинарный код для столбца `'a'` в датафрейме `df` и добавьте его в виде столбцов.\n",
    "\n",
    "Пример входных данных:\n",
    "\n",
    "```python\n",
    "df = pd.DataFrame(np.arange(25).reshape(5,-1), columns=list('abcde'))\n",
    "    a   b   c   d   e\n",
    "0   0   1   2   3   4\n",
    "1   5   6   7   8   9\n",
    "2  10  11  12  13  14\n",
    "3  15  16  17  18  19\n",
    "4  20  21  22  23  24\n",
    "```\n",
    "\n",
    "Пример выходных данных:\n",
    "\n",
    "```python\n",
    "   0  5  10  15  20   b   c   d   e\n",
    "0  1  0   0   0   0   1   2   3   4\n",
    "1  0  1   0   0   0   6   7   8   9\n",
    "2  0  0   1   0   0  11  12  13  14\n",
    "3  0  0   0   1   0  16  17  18  19\n",
    "4  0  0   0   0   1  21  22  23  24\n",
    "```\n"
   ]
  },
  {
   "cell_type": "code",
   "execution_count": 34,
   "id": "937b7e1e-f44d-4283-8099-04523c289641",
   "metadata": {},
   "outputs": [
    {
     "name": "stdout",
     "output_type": "stream",
     "text": [
      "   0  5  10  15  20   b   c   d   e\n",
      "0  1  0   0   0   0   1   2   3   4\n",
      "1  0  1   0   0   0   6   7   8   9\n",
      "2  0  0   1   0   0  11  12  13  14\n",
      "3  0  0   0   1   0  16  17  18  19\n",
      "4  0  0   0   0   1  21  22  23  24\n"
     ]
    }
   ],
   "source": [
    "df = pd.DataFrame(np.arange(25).reshape(5,-1), columns=list('abcde'))\n",
    "\n",
    "binary_columns = pd.get_dummies(df['a'])\n",
    "binary_columns = binary_columns.astype(int)\n",
    "\n",
    "df = pd.concat([binary_columns, df[['b', 'c', 'd', 'e']]], axis=1)\n",
    "print(df)"
   ]
  },
  {
   "cell_type": "markdown",
   "id": "276c6092-3d22-4c27-b9f6-ebafea83e037",
   "metadata": {},
   "source": [
    "## Упражнение № 58\n",
    "\n",
    "Получите название столбца с наибольшим количеством строчных максимумов в `df`.\n",
    "\n",
    "```python\n",
    "df = pd.DataFrame(np.random.randint(1,100, 40).reshape(10, -1))\n",
    "```"
   ]
  },
  {
   "cell_type": "code",
   "execution_count": 35,
   "id": "42da3035-36ac-4259-b7dc-c499d19b7741",
   "metadata": {},
   "outputs": [
    {
     "name": "stdout",
     "output_type": "stream",
     "text": [
      "    0   1   2   3\n",
      "0   1  60  23  96\n",
      "1  84  18  55  24\n",
      "2  44  28  40  33\n",
      "3   2  31  42  83\n",
      "4   5  74  68  69\n",
      "5  45  80  50  61\n",
      "6   1   4  70  90\n",
      "7   4  31  62  55\n",
      "8  76  23  98  77\n",
      "9  68  65  89  61\n",
      "\n",
      "Название столбца: 3\n"
     ]
    }
   ],
   "source": [
    "df = pd.DataFrame(np.random.randint(1, 100, 40).reshape(10, -1))\n",
    "\n",
    "max_column = df.idxmax(axis=1).value_counts().idxmax()\n",
    "print(df)\n",
    "print(\"\\nНазвание столбца:\", max_column)"
   ]
  },
  {
   "cell_type": "markdown",
   "id": "0995a132-2dbe-490c-bd4a-8b9e5ff5ffda",
   "metadata": {},
   "source": [
    "## Упражнение № 59\n",
    "\n",
    "Создать новый столбец, в каждой строке которого будет указан номер строки, ближайшей по евклидову расстоянию к данной строке.\n",
    "\n",
    "Пример входных данных:\n",
    "\n",
    "```python\n",
    "df = pd.DataFrame(np.random.randint(1,100, 40).reshape(10, -1), columns=list('pqrs'), index=list('abcdefghij'))\n",
    "df\n",
    "#     p   q   r   s\n",
    "# a  57  77  13  62\n",
    "# b  68   5  92  24\n",
    "# c  74  40  18  37\n",
    "# d  80  17  39  60\n",
    "# e  93  48  85  33\n",
    "# f  69  55   8  11\n",
    "# g  39  23  88  53\n",
    "# h  63  28  25  61\n",
    "# i  18   4  73   7\n",
    "# j  79  12  45  34\n",
    "```\n",
    "\n",
    "Пример выходных данных:\n",
    "\n",
    "```python\n",
    "df\n",
    "#    p   q   r   s nearest_row   dist\n",
    "# a  57  77  13  62           i  116.0\n",
    "# b  68   5  92  24           a  114.0\n",
    "# c  74  40  18  37           i   91.0\n",
    "# d  80  17  39  60           i   89.0\n",
    "# e  93  48  85  33           i   92.0\n",
    "# f  69  55   8  11           g  100.0\n",
    "# g  39  23  88  53           f  100.0\n",
    "# h  63  28  25  61           i   88.0\n",
    "# i  18   4  73   7           a  116.0\n",
    "# j  79  12  45  34           a   81.0\n",
    "```"
   ]
  },
  {
   "cell_type": "code",
   "execution_count": 37,
   "id": "3610dd12-65fa-4851-9984-6f41a56068da",
   "metadata": {},
   "outputs": [
    {
     "data": {
      "text/html": [
       "<div>\n",
       "<style scoped>\n",
       "    .dataframe tbody tr th:only-of-type {\n",
       "        vertical-align: middle;\n",
       "    }\n",
       "\n",
       "    .dataframe tbody tr th {\n",
       "        vertical-align: top;\n",
       "    }\n",
       "\n",
       "    .dataframe thead th {\n",
       "        text-align: right;\n",
       "    }\n",
       "</style>\n",
       "<table border=\"1\" class=\"dataframe\">\n",
       "  <thead>\n",
       "    <tr style=\"text-align: right;\">\n",
       "      <th></th>\n",
       "      <th>p</th>\n",
       "      <th>q</th>\n",
       "      <th>r</th>\n",
       "      <th>s</th>\n",
       "      <th>nearest_raw</th>\n",
       "      <th>dist</th>\n",
       "    </tr>\n",
       "  </thead>\n",
       "  <tbody>\n",
       "    <tr>\n",
       "      <th>a</th>\n",
       "      <td>83</td>\n",
       "      <td>82</td>\n",
       "      <td>6</td>\n",
       "      <td>87</td>\n",
       "      <td>h</td>\n",
       "      <td>53.9815</td>\n",
       "    </tr>\n",
       "    <tr>\n",
       "      <th>b</th>\n",
       "      <td>66</td>\n",
       "      <td>76</td>\n",
       "      <td>4</td>\n",
       "      <td>14</td>\n",
       "      <td>h</td>\n",
       "      <td>45.0555</td>\n",
       "    </tr>\n",
       "    <tr>\n",
       "      <th>c</th>\n",
       "      <td>6</td>\n",
       "      <td>6</td>\n",
       "      <td>79</td>\n",
       "      <td>27</td>\n",
       "      <td>f</td>\n",
       "      <td>38.5876</td>\n",
       "    </tr>\n",
       "    <tr>\n",
       "      <th>d</th>\n",
       "      <td>98</td>\n",
       "      <td>1</td>\n",
       "      <td>87</td>\n",
       "      <td>10</td>\n",
       "      <td>j</td>\n",
       "      <td>51.8266</td>\n",
       "    </tr>\n",
       "    <tr>\n",
       "      <th>e</th>\n",
       "      <td>94</td>\n",
       "      <td>1</td>\n",
       "      <td>49</td>\n",
       "      <td>74</td>\n",
       "      <td>g</td>\n",
       "      <td>58.2495</td>\n",
       "    </tr>\n",
       "    <tr>\n",
       "      <th>f</th>\n",
       "      <td>35</td>\n",
       "      <td>20</td>\n",
       "      <td>63</td>\n",
       "      <td>41</td>\n",
       "      <td>i</td>\n",
       "      <td>32.8329</td>\n",
       "    </tr>\n",
       "    <tr>\n",
       "      <th>g</th>\n",
       "      <td>51</td>\n",
       "      <td>23</td>\n",
       "      <td>17</td>\n",
       "      <td>68</td>\n",
       "      <td>h</td>\n",
       "      <td>50.1697</td>\n",
       "    </tr>\n",
       "    <tr>\n",
       "      <th>h</th>\n",
       "      <td>85</td>\n",
       "      <td>51</td>\n",
       "      <td>16</td>\n",
       "      <td>44</td>\n",
       "      <td>b</td>\n",
       "      <td>45.0555</td>\n",
       "    </tr>\n",
       "    <tr>\n",
       "      <th>i</th>\n",
       "      <td>48</td>\n",
       "      <td>32</td>\n",
       "      <td>42</td>\n",
       "      <td>23</td>\n",
       "      <td>f</td>\n",
       "      <td>32.8329</td>\n",
       "    </tr>\n",
       "    <tr>\n",
       "      <th>j</th>\n",
       "      <td>66</td>\n",
       "      <td>32</td>\n",
       "      <td>92</td>\n",
       "      <td>36</td>\n",
       "      <td>f</td>\n",
       "      <td>44.3959</td>\n",
       "    </tr>\n",
       "  </tbody>\n",
       "</table>\n",
       "</div>"
      ],
      "text/plain": [
       "    p   q   r   s nearest_raw    dist\n",
       "a  83  82   6  87           h 53.9815\n",
       "b  66  76   4  14           h 45.0555\n",
       "c   6   6  79  27           f 38.5876\n",
       "d  98   1  87  10           j 51.8266\n",
       "e  94   1  49  74           g 58.2495\n",
       "f  35  20  63  41           i 32.8329\n",
       "g  51  23  17  68           h 50.1697\n",
       "h  85  51  16  44           b 45.0555\n",
       "i  48  32  42  23           f 32.8329\n",
       "j  66  32  92  36           f 44.3959"
      ]
     },
     "execution_count": 37,
     "metadata": {},
     "output_type": "execute_result"
    }
   ],
   "source": [
    "from scipy.spatial.distance import cdist\n",
    "\n",
    "df = pd.DataFrame(np.random.randint(1,100, 40).reshape(10, -1),\n",
    "                  columns=list('pqrs'), index=list('abcdefghij'))\n",
    "\n",
    "distanses = cdist(df,df, 'euclidean')\n",
    "np.fill_diagonal(distanses,np.inf)\n",
    "df['nearest_raw'] = df.index[distanses.argmin(axis=1)]\n",
    "df['dist'] = distanses.min(axis=1)\n",
    "df"
   ]
  },
  {
   "cell_type": "markdown",
   "id": "cfdf7406-0dce-47c7-954e-6a59467afa8a",
   "metadata": {},
   "source": [
    "## Упражнение № 60\n",
    "\n",
    "Вычислите максимально возможное абсолютное значение корреляции каждого столбца с другими столбцами в `df`.\n",
    "\n",
    "Пример входных данных:\n",
    "\n",
    "```python\n",
    "df = pd.DataFrame(np.random.randint(1,100, 80).reshape(8, -1), columns=list('pqrstuvwxy'), index=list('abcdefgh'))\n",
    "```"
   ]
  },
  {
   "cell_type": "code",
   "execution_count": 38,
   "id": "610dc16b-fce4-4d4d-81c3-b7b64c8e4a6f",
   "metadata": {},
   "outputs": [
    {
     "name": "stdout",
     "output_type": "stream",
     "text": [
      "0.8500874487691609\n"
     ]
    }
   ],
   "source": [
    "df = pd.DataFrame(np.random.randint(1,100, 80).reshape(8, -1),\n",
    "                  columns=list('pqrstuvwxy'), index=list('abcdefgh'))\n",
    "corr = df.corr().abs().to_numpy()\n",
    "np.fill_diagonal(corr, 0)\n",
    "\n",
    "print(pd.DataFrame(corr).max().max())"
   ]
  },
  {
   "cell_type": "markdown",
   "id": "c7cbffe7-3bd3-47b1-85df-19c001b79dd7",
   "metadata": {},
   "source": [
    "## Упражнение № 61\n",
    "\n",
    "Вычислите минимум-максимум для каждой строки `df`.\n",
    "\n",
    "```python\n",
    "df = pd.DataFrame(np.random.randint(1,100, 80).reshape(8, -1))\n",
    "```"
   ]
  },
  {
   "cell_type": "code",
   "execution_count": 39,
   "id": "f3348f29-8ff0-4daa-832b-5ecaba29f628",
   "metadata": {},
   "outputs": [
    {
     "data": {
      "text/html": [
       "<div>\n",
       "<style scoped>\n",
       "    .dataframe tbody tr th:only-of-type {\n",
       "        vertical-align: middle;\n",
       "    }\n",
       "\n",
       "    .dataframe tbody tr th {\n",
       "        vertical-align: top;\n",
       "    }\n",
       "\n",
       "    .dataframe thead th {\n",
       "        text-align: right;\n",
       "    }\n",
       "</style>\n",
       "<table border=\"1\" class=\"dataframe\">\n",
       "  <thead>\n",
       "    <tr style=\"text-align: right;\">\n",
       "      <th></th>\n",
       "      <th>0</th>\n",
       "      <th>1</th>\n",
       "    </tr>\n",
       "  </thead>\n",
       "  <tbody>\n",
       "    <tr>\n",
       "      <th>0</th>\n",
       "      <td>2</td>\n",
       "      <td>89</td>\n",
       "    </tr>\n",
       "    <tr>\n",
       "      <th>1</th>\n",
       "      <td>7</td>\n",
       "      <td>66</td>\n",
       "    </tr>\n",
       "    <tr>\n",
       "      <th>2</th>\n",
       "      <td>7</td>\n",
       "      <td>98</td>\n",
       "    </tr>\n",
       "    <tr>\n",
       "      <th>3</th>\n",
       "      <td>22</td>\n",
       "      <td>92</td>\n",
       "    </tr>\n",
       "    <tr>\n",
       "      <th>4</th>\n",
       "      <td>6</td>\n",
       "      <td>99</td>\n",
       "    </tr>\n",
       "    <tr>\n",
       "      <th>5</th>\n",
       "      <td>8</td>\n",
       "      <td>99</td>\n",
       "    </tr>\n",
       "    <tr>\n",
       "      <th>6</th>\n",
       "      <td>29</td>\n",
       "      <td>75</td>\n",
       "    </tr>\n",
       "    <tr>\n",
       "      <th>7</th>\n",
       "      <td>9</td>\n",
       "      <td>98</td>\n",
       "    </tr>\n",
       "  </tbody>\n",
       "</table>\n",
       "</div>"
      ],
      "text/plain": [
       "    0   1\n",
       "0   2  89\n",
       "1   7  66\n",
       "2   7  98\n",
       "3  22  92\n",
       "4   6  99\n",
       "5   8  99\n",
       "6  29  75\n",
       "7   9  98"
      ]
     },
     "execution_count": 39,
     "metadata": {},
     "output_type": "execute_result"
    }
   ],
   "source": [
    "df = pd.DataFrame(np.random.randint(1,100, 80).reshape(8, -1))\n",
    "\n",
    "pd.DataFrame([(min(df[i]), max(df[i])) for i in range(len(df))])"
   ]
  },
  {
   "cell_type": "markdown",
   "id": "a1663092-a779-4982-b0aa-1e2ffcdb7016",
   "metadata": {},
   "source": [
    "## Упражнение № 62\n",
    "\n",
    "Создайте новый столбец `penultimate`, который содержит второе по величине значение каждой строки `df`.\n",
    "\n",
    "Пример входных данных:\n",
    "\n",
    "```python\n",
    "df = pd.DataFrame(np.random.randint(1,100, 80).reshape(8, -1))\n",
    "```\n"
   ]
  },
  {
   "cell_type": "code",
   "execution_count": 40,
   "id": "1559b128-36ef-4f68-8b86-24adbb85b767",
   "metadata": {},
   "outputs": [
    {
     "data": {
      "text/html": [
       "<div>\n",
       "<style scoped>\n",
       "    .dataframe tbody tr th:only-of-type {\n",
       "        vertical-align: middle;\n",
       "    }\n",
       "\n",
       "    .dataframe tbody tr th {\n",
       "        vertical-align: top;\n",
       "    }\n",
       "\n",
       "    .dataframe thead th {\n",
       "        text-align: right;\n",
       "    }\n",
       "</style>\n",
       "<table border=\"1\" class=\"dataframe\">\n",
       "  <thead>\n",
       "    <tr style=\"text-align: right;\">\n",
       "      <th></th>\n",
       "      <th>0</th>\n",
       "      <th>1</th>\n",
       "      <th>2</th>\n",
       "      <th>3</th>\n",
       "      <th>4</th>\n",
       "      <th>...</th>\n",
       "      <th>6</th>\n",
       "      <th>7</th>\n",
       "      <th>8</th>\n",
       "      <th>9</th>\n",
       "      <th>penultimate</th>\n",
       "    </tr>\n",
       "  </thead>\n",
       "  <tbody>\n",
       "    <tr>\n",
       "      <th>0</th>\n",
       "      <td>88</td>\n",
       "      <td>22</td>\n",
       "      <td>27</td>\n",
       "      <td>72</td>\n",
       "      <td>77</td>\n",
       "      <td>...</td>\n",
       "      <td>41</td>\n",
       "      <td>97</td>\n",
       "      <td>56</td>\n",
       "      <td>86</td>\n",
       "      <td>88</td>\n",
       "    </tr>\n",
       "    <tr>\n",
       "      <th>1</th>\n",
       "      <td>63</td>\n",
       "      <td>94</td>\n",
       "      <td>28</td>\n",
       "      <td>81</td>\n",
       "      <td>95</td>\n",
       "      <td>...</td>\n",
       "      <td>53</td>\n",
       "      <td>92</td>\n",
       "      <td>24</td>\n",
       "      <td>55</td>\n",
       "      <td>94</td>\n",
       "    </tr>\n",
       "    <tr>\n",
       "      <th>2</th>\n",
       "      <td>21</td>\n",
       "      <td>54</td>\n",
       "      <td>15</td>\n",
       "      <td>24</td>\n",
       "      <td>33</td>\n",
       "      <td>...</td>\n",
       "      <td>92</td>\n",
       "      <td>70</td>\n",
       "      <td>16</td>\n",
       "      <td>38</td>\n",
       "      <td>70</td>\n",
       "    </tr>\n",
       "    <tr>\n",
       "      <th>3</th>\n",
       "      <td>96</td>\n",
       "      <td>18</td>\n",
       "      <td>47</td>\n",
       "      <td>10</td>\n",
       "      <td>30</td>\n",
       "      <td>...</td>\n",
       "      <td>74</td>\n",
       "      <td>86</td>\n",
       "      <td>78</td>\n",
       "      <td>14</td>\n",
       "      <td>86</td>\n",
       "    </tr>\n",
       "    <tr>\n",
       "      <th>4</th>\n",
       "      <td>59</td>\n",
       "      <td>85</td>\n",
       "      <td>5</td>\n",
       "      <td>92</td>\n",
       "      <td>76</td>\n",
       "      <td>...</td>\n",
       "      <td>41</td>\n",
       "      <td>86</td>\n",
       "      <td>99</td>\n",
       "      <td>4</td>\n",
       "      <td>92</td>\n",
       "    </tr>\n",
       "    <tr>\n",
       "      <th>5</th>\n",
       "      <td>21</td>\n",
       "      <td>82</td>\n",
       "      <td>33</td>\n",
       "      <td>76</td>\n",
       "      <td>87</td>\n",
       "      <td>...</td>\n",
       "      <td>37</td>\n",
       "      <td>11</td>\n",
       "      <td>43</td>\n",
       "      <td>50</td>\n",
       "      <td>82</td>\n",
       "    </tr>\n",
       "    <tr>\n",
       "      <th>6</th>\n",
       "      <td>97</td>\n",
       "      <td>56</td>\n",
       "      <td>75</td>\n",
       "      <td>72</td>\n",
       "      <td>23</td>\n",
       "      <td>...</td>\n",
       "      <td>59</td>\n",
       "      <td>43</td>\n",
       "      <td>98</td>\n",
       "      <td>62</td>\n",
       "      <td>97</td>\n",
       "    </tr>\n",
       "    <tr>\n",
       "      <th>7</th>\n",
       "      <td>12</td>\n",
       "      <td>50</td>\n",
       "      <td>47</td>\n",
       "      <td>4</td>\n",
       "      <td>30</td>\n",
       "      <td>...</td>\n",
       "      <td>58</td>\n",
       "      <td>46</td>\n",
       "      <td>84</td>\n",
       "      <td>11</td>\n",
       "      <td>84</td>\n",
       "    </tr>\n",
       "  </tbody>\n",
       "</table>\n",
       "<p>8 rows × 11 columns</p>\n",
       "</div>"
      ],
      "text/plain": [
       "    0   1   2   3   4  ...   6   7   8   9  penultimate\n",
       "0  88  22  27  72  77  ...  41  97  56  86           88\n",
       "1  63  94  28  81  95  ...  53  92  24  55           94\n",
       "2  21  54  15  24  33  ...  92  70  16  38           70\n",
       "3  96  18  47  10  30  ...  74  86  78  14           86\n",
       "4  59  85   5  92  76  ...  41  86  99   4           92\n",
       "5  21  82  33  76  87  ...  37  11  43  50           82\n",
       "6  97  56  75  72  23  ...  59  43  98  62           97\n",
       "7  12  50  47   4  30  ...  58  46  84  11           84\n",
       "\n",
       "[8 rows x 11 columns]"
      ]
     },
     "execution_count": 40,
     "metadata": {},
     "output_type": "execute_result"
    }
   ],
   "source": [
    "df = pd.DataFrame(np.random.randint(1,100, 80).reshape(8, -1))\n",
    "df['penultimate'] = df.apply(lambda x: x.nlargest(2).iloc[1],axis=1)\n",
    "df"
   ]
  },
  {
   "cell_type": "markdown",
   "id": "c5c9ae7d-a06e-4739-aee2-c1361cdcc689",
   "metadata": {},
   "source": [
    "## Упражнение № 63\n",
    "\n",
    "1. Нормализуйте все столбцы `df`, вычитая среднее значение столбца и деля его на стандартное отклонение.\n",
    "2. Произведите ранжирование всех столбцов `df` таким образом, чтобы минимальное значение в каждом столбце было равно 0, а максимальное — 1.\n",
    "\n",
    "Не используйте внешние пакеты типа `sklearn`.\n",
    "\n",
    "Пример входных данных:\n",
    "\n",
    "```python\n",
    "df = pd.DataFrame(np.random.randint(1,100, 80).reshape(8, -1))\n",
    "```"
   ]
  },
  {
   "cell_type": "code",
   "execution_count": 41,
   "id": "7ba46363-7660-4734-8ecf-1b874f9aaaff",
   "metadata": {},
   "outputs": [
    {
     "name": "stdout",
     "output_type": "stream",
     "text": [
      "        0       1       2       3       4       5       6       7       8  \\\n",
      "0 -1.1244  0.3668  0.5568  0.9141 -1.0926  0.8626 -0.7749  1.2812 -0.0971   \n",
      "1 -0.5224  1.0572  0.9085 -0.4493  1.0621 -1.8377  1.4794 -0.9731 -0.0349   \n",
      "2 -0.3099  0.1251 -1.0550  1.2860 -0.2795 -0.4375 -0.4126 -0.7026  1.2695   \n",
      "3 -1.3015  0.3323 -1.0257 -0.6972 -0.9707 -0.7376  0.1107  0.8003 -0.1902   \n",
      "4  0.5401 -1.0831 -1.4067  0.9451  1.0215 -0.1375 -1.6606 -0.4020  1.3316   \n",
      "5  1.1067 -1.9461  0.5568  0.3254 -1.2146  0.2625  0.1510  1.2211  0.3378   \n",
      "6  0.1505  0.6084  1.1430 -0.9141  0.5743  0.9626  1.1171 -1.2737 -1.4326   \n",
      "7  1.4608  0.5394  0.3224 -1.4099  0.8995  1.0626 -0.0101  0.0488 -1.1841   \n",
      "\n",
      "        9  \n",
      "0 -1.2099  \n",
      "1 -0.8514  \n",
      "2 -0.2172  \n",
      "3  1.0789  \n",
      "4  0.8859  \n",
      "5  1.1341  \n",
      "6 -1.1823  \n",
      "7  0.3619  \n",
      "       0      1      2      3      4      5      6      7      8      9\n",
      "0 0.0641 0.7701 0.7701 0.8621 0.0536 0.9310 0.2821 1.0000 0.4831 0.0000\n",
      "1 0.2821 1.0000 0.9080 0.3563 1.0000 0.0000 1.0000 0.1176 0.5056 0.1529\n",
      "2 0.3590 0.6897 0.1379 1.0000 0.4107 0.4828 0.3974 0.2235 0.9775 0.4235\n",
      "3 0.0000 0.7586 0.1494 0.2644 0.1071 0.3793 0.5641 0.8118 0.4494 0.9765\n",
      "4 0.6667 0.2874 0.0000 0.8736 0.9821 0.5862 0.0000 0.3412 1.0000 0.8941\n",
      "5 0.8718 0.0000 0.7701 0.6437 0.0000 0.7241 0.5769 0.9765 0.6404 1.0000\n",
      "6 0.5256 0.8506 1.0000 0.1839 0.7857 0.9655 0.8846 0.0000 0.0000 0.0118\n",
      "7 1.0000 0.8276 0.6782 0.0000 0.9286 1.0000 0.5256 0.5176 0.0899 0.6706\n"
     ]
    }
   ],
   "source": [
    "df = pd.DataFrame(np.random.randint(1,100, 80).reshape(8, -1))\n",
    "\n",
    "df_norm = (df - df.mean()) / df.std()\n",
    "df_rank = (df - df.min()) / (df.max() - df.min())\n",
    "\n",
    "print(df_norm)\n",
    "print(df_rank)"
   ]
  },
  {
   "cell_type": "markdown",
   "id": "c79ec8d6-5311-4691-9c19-add8a6321c67",
   "metadata": {},
   "source": [
    "## Упражнение № 64\n",
    "\n",
    "Вычислите корреляцию каждой строки `df` с последующей строкой.\n",
    "\n",
    "Пример входных данных:\n",
    "\n",
    "```python\n",
    "df = pd.DataFrame(np.random.randint(1,100, 80).reshape(8, -1))\n",
    "```"
   ]
  },
  {
   "cell_type": "code",
   "execution_count": 42,
   "id": "1206e2ba-e0e0-4246-8943-bdc5fe26a7d5",
   "metadata": {},
   "outputs": [
    {
     "data": {
      "text/plain": [
       "0    0.1169\n",
       "1   -0.1619\n",
       "2   -0.1061\n",
       "3   -0.7082\n",
       "4    0.2409\n",
       "5   -0.1989\n",
       "6   -0.0816\n",
       "7   -0.0200\n",
       "8    0.3789\n",
       "9   -0.5456\n",
       "dtype: float64"
      ]
     },
     "execution_count": 42,
     "metadata": {},
     "output_type": "execute_result"
    }
   ],
   "source": [
    "df = pd.DataFrame(np.random.randint(1,100, 80).reshape(8, -1))\n",
    "\n",
    "df.corrwith(df.shift(-1))"
   ]
  },
  {
   "cell_type": "markdown",
   "id": "6be8627a-a00b-4463-9cd4-d31bd9a0cf50",
   "metadata": {},
   "source": [
    "## Упражнение № 65\n",
    "\n",
    "Замените все значения в обеих диагоналях `df` на 0.\n",
    "\n",
    "Пример входных данных:\n",
    "\n",
    "```python\n",
    "df = pd.DataFrame(np.random.randint(1,100, 100).reshape(10, -1))\n",
    "df\n",
    "#     0   1   2   3   4   5   6   7   8   9\n",
    "# 0  11  46  26  44  11  62  18  70  68  26\n",
    "# 1  87  71  52  50  81  43  83  39   3  59\n",
    "# 2  47  76  93  77  73   2   2  16  14  26\n",
    "# 3  64  18  74  22  16  37  60   8  66  39\n",
    "# 4  10  18  39  98  25   8  32   6   3  29\n",
    "# 5  29  91  27  86  23  84  28  31  97  10\n",
    "# 6  37  71  70  65   4  72  82  89  12  97\n",
    "# 7  65  22  97  75  17  10  43  78  12  77\n",
    "# 8  47  57  96  55  17  83  61  85  26  86\n",
    "# 9  76  80  28  45  77  12  67  80   7  63\n",
    "```\n",
    "\n",
    "Пример выходных данных:\n",
    "\n",
    "```python\n",
    "#     0   1   2   3   4   5   6   7   8   9\n",
    "# 0   0  46  26  44  11  62  18  70  68   0\n",
    "# 1  87   0  52  50  81  43  83  39   0  59\n",
    "# 2  47  76   0  77  73   2   2   0  14  26\n",
    "# 3  64  18  74   0  16  37   0   8  66  39\n",
    "# 4  10  18  39  98   0   0  32   6   3  29\n",
    "# 5  29  91  27  86   0   0  28  31  97  10\n",
    "# 6  37  71  70   0   4  72   0  89  12  97\n",
    "# 7  65  22   0  75  17  10  43   0  12  77\n",
    "# 8  47   0  96  55  17  83  61  85   0  86\n",
    "# 9   0  80  28  45  77  12  67  80   7   0\n",
    "```"
   ]
  },
  {
   "cell_type": "code",
   "execution_count": 43,
   "id": "1826b61f-259e-4c64-ba99-39cf5f20990d",
   "metadata": {},
   "outputs": [
    {
     "name": "stdout",
     "output_type": "stream",
     "text": [
      "    0   1   2   3   4   5   6   7   8   9\n",
      "0   0  92  49  31  98  50  27  74  83   0\n",
      "1  40   0  26  59  97   4  28  52   0  48\n",
      "2  22  70   0  67  80  60  55   0  83  25\n",
      "3  91   9  50   0  82  25   0  47  34   7\n",
      "4  18  55  64   5   0   0  12  92  69  74\n",
      "5  17  19  13  86   0   0  27  50  89  18\n",
      "6  52  27  13   0  84  88   0  86  64  31\n",
      "7  72  99   0  60  85  92  55   0  67  27\n",
      "8   2   0  65  47  76  31  76  66   0  53\n",
      "9   0  77  71  62  17  46  35   2  27   0\n"
     ]
    }
   ],
   "source": [
    "df = pd.DataFrame(np.random.randint(1,100, 100).reshape(10, -1))\n",
    "np.fill_diagonal(df.values, 0)\n",
    "for i in range(df.shape[0]):\n",
    "    df.iloc[i, df.shape[1] - i - 1] = 0\n",
    "\n",
    "print(df)"
   ]
  },
  {
   "cell_type": "markdown",
   "id": "687bb7d8-a718-456d-9d0c-7f7c2531ed8f",
   "metadata": {},
   "source": [
    "## Упражнение № 66\n",
    "\n",
    "Из `df_grouped` получите в виде датафрейма группу, относящуюся к `apple`.\n",
    "\n",
    "Пример входных данных:\n",
    "\n",
    "```python\n",
    "df = pd.DataFrame({'col1': ['apple', 'banana', 'orange'] * 3,\n",
    "                   'col2': np.random.rand(9),\n",
    "                   'col3': np.random.randint(0, 15, 9)})\n",
    "\n",
    "df_grouped = df.groupby(['col1'])\n",
    "```\n",
    "\n",
    "Пример выходных данных\n",
    "\n",
    "```\n",
    "    col1      col2  col3\n",
    "0  apple  0.673434     7\n",
    "3  apple  0.182348    14\n",
    "6  apple  0.050457     3\n",
    "```\n"
   ]
  },
  {
   "cell_type": "code",
   "execution_count": 47,
   "id": "c94fdc56-be6e-45ec-98b1-d33691e12c16",
   "metadata": {},
   "outputs": [
    {
     "name": "stdout",
     "output_type": "stream",
     "text": [
      "    col1   col2  col3\n",
      "0  apple 0.6177    14\n",
      "3  apple 0.4452    13\n",
      "6  apple 0.0640    12\n"
     ]
    }
   ],
   "source": [
    "df = pd.DataFrame({'col1': ['apple', 'banana', 'orange'] * 3,\n",
    "                     'col2': np.random.rand(9),\n",
    "                     'col3': np.random.randint(0, 15, 9)})\n",
    "df_grouped = df.groupby('col1')\n",
    "apple_group = df_grouped.get_group('apple')\n",
    "print(apple_group)"
   ]
  },
  {
   "cell_type": "markdown",
   "id": "5172c81f-1701-4992-a5a8-b48311b03ac1",
   "metadata": {},
   "source": [
    "## Упражнение № 67\n",
    "\n",
    "В `df` найдите второе по величине значение `taste` для `banana`.\n",
    "\n",
    "Пример входных данных:\n",
    "\n",
    "```python\n",
    "df = pd.DataFrame({'fruit': ['apple', 'banana', 'orange'] * 3,\n",
    "                   'rating': np.random.rand(9),\n",
    "                   'price': np.random.randint(0, 15, 9)})\n",
    "```"
   ]
  },
  {
   "cell_type": "code",
   "execution_count": 48,
   "id": "f52e1268-fc5b-41f8-bb60-62c9a23ee518",
   "metadata": {},
   "outputs": [
    {
     "name": "stdout",
     "output_type": "stream",
     "text": [
      "    fruit  taste  price\n",
      "0   apple 0.2990      0\n",
      "1  banana 0.7280      6\n",
      "2  orange 0.4765      1\n",
      "3   apple 0.9826     14\n",
      "4  banana 0.8147      9\n",
      "5  orange 0.3621     14\n",
      "6   apple 0.3050      7\n",
      "7  banana 0.4623      8\n",
      "8  orange 0.1259      6\n",
      "0.727960770536167\n"
     ]
    }
   ],
   "source": [
    "df = pd.DataFrame({'fruit': ['apple', 'banana', 'orange'] * 3,\n",
    "                   'taste': np.random.rand(9),\n",
    "                   'price': np.random.randint(0, 15, 9)})\n",
    "\n",
    "banana_df = df[df['fruit'] == 'banana']\n",
    "top_2_banana = banana_df['taste'].nlargest(2).iloc[-1]\n",
    "print(df)\n",
    "print(top_2_banana)"
   ]
  },
  {
   "cell_type": "markdown",
   "id": "4e3adb7d-212f-4d67-b6a4-530235809112",
   "metadata": {},
   "source": [
    "## Упражнение № 68\n",
    "\n",
    "В `df` вычислите среднюю цену `Price` каждого фрукта `Fruit`, сохраняя фрукт как еще один столбец вместо индекса.\n",
    "\n",
    "Пример входных данных:\n",
    "\n",
    "```python\n",
    "df = pd.DataFrame({'fruit': ['apple', 'banana', 'orange'] * 3,\n",
    "                   'rating': np.random.rand(9),\n",
    "                   'price': np.random.randint(0, 15, 9)})\n",
    "```"
   ]
  },
  {
   "cell_type": "code",
   "execution_count": 51,
   "id": "3f0ea39e-8f8f-4a28-8738-ef34c9dead3a",
   "metadata": {},
   "outputs": [
    {
     "name": "stdout",
     "output_type": "stream",
     "text": [
      "DF:\n",
      "    fruit  rating  price\n",
      "0   apple  0.7434      4\n",
      "1  banana  0.4635      2\n",
      "2  orange  0.7672      2\n",
      "3   apple  0.9744     12\n",
      "4  banana  0.8629      3\n",
      "5  orange  0.4506      7\n",
      "6   apple  0.8286      4\n",
      "7  banana  0.7885      6\n",
      "8  orange  0.7226      3\n",
      "\n",
      " AVG:\n",
      "    fruit  price\n",
      "0   apple 6.6667\n",
      "1  banana 3.6667\n",
      "2  orange 4.0000\n"
     ]
    }
   ],
   "source": [
    "df = pd.DataFrame({\n",
    "    'fruit': ['apple', 'banana', 'orange'] * 3,\n",
    "    'rating': np.random.rand(9),\n",
    "    'price': np.random.randint(0, 15, 9)\n",
    "})\n",
    "\n",
    "print(\"DF:\")\n",
    "print(df)\n",
    "print(\"\\n AVG:\")\n",
    "print(df.groupby('fruit', as_index=False)['price'].mean())"
   ]
  },
  {
   "cell_type": "markdown",
   "id": "a0264c45-7701-47e6-864b-91d51a42f9ce",
   "metadata": {},
   "source": [
    "## Упражнение № 69\n",
    "\n",
    "Объединить датафреймы `df1` и `df2` по признакам `fruit-pazham` и `weight-kilo`.\n",
    "\n",
    "Пример входных данных:\n",
    "\n",
    "```python\n",
    "df1 = pd.DataFrame({'fruit': ['apple', 'banana', 'orange'] * 3,\n",
    "                    'weight': ['high', 'medium', 'low'] * 3,\n",
    "                    'price': np.random.randint(0, 15, 9)})\n",
    "\n",
    "df2 = pd.DataFrame({'pazham': ['apple', 'orange', 'pine'] * 2,\n",
    "                    'kilo': ['high', 'low'] * 3,\n",
    "                    'price': np.random.randint(0, 15, 6)})\n",
    "```\n"
   ]
  },
  {
   "cell_type": "code",
   "execution_count": 52,
   "id": "c5984120-147d-404a-9ee2-0f0cac549ebd",
   "metadata": {},
   "outputs": [
    {
     "data": {
      "text/html": [
       "<div>\n",
       "<style scoped>\n",
       "    .dataframe tbody tr th:only-of-type {\n",
       "        vertical-align: middle;\n",
       "    }\n",
       "\n",
       "    .dataframe tbody tr th {\n",
       "        vertical-align: top;\n",
       "    }\n",
       "\n",
       "    .dataframe thead th {\n",
       "        text-align: right;\n",
       "    }\n",
       "</style>\n",
       "<table border=\"1\" class=\"dataframe\">\n",
       "  <thead>\n",
       "    <tr style=\"text-align: right;\">\n",
       "      <th></th>\n",
       "      <th>fruit</th>\n",
       "      <th>weight</th>\n",
       "      <th>price_x</th>\n",
       "      <th>pazham</th>\n",
       "      <th>kilo</th>\n",
       "      <th>price_y</th>\n",
       "    </tr>\n",
       "  </thead>\n",
       "  <tbody>\n",
       "    <tr>\n",
       "      <th>0</th>\n",
       "      <td>apple</td>\n",
       "      <td>high</td>\n",
       "      <td>9</td>\n",
       "      <td>apple</td>\n",
       "      <td>high</td>\n",
       "      <td>0</td>\n",
       "    </tr>\n",
       "    <tr>\n",
       "      <th>1</th>\n",
       "      <td>orange</td>\n",
       "      <td>low</td>\n",
       "      <td>14</td>\n",
       "      <td>orange</td>\n",
       "      <td>low</td>\n",
       "      <td>10</td>\n",
       "    </tr>\n",
       "    <tr>\n",
       "      <th>2</th>\n",
       "      <td>apple</td>\n",
       "      <td>high</td>\n",
       "      <td>14</td>\n",
       "      <td>apple</td>\n",
       "      <td>high</td>\n",
       "      <td>0</td>\n",
       "    </tr>\n",
       "    <tr>\n",
       "      <th>3</th>\n",
       "      <td>orange</td>\n",
       "      <td>low</td>\n",
       "      <td>9</td>\n",
       "      <td>orange</td>\n",
       "      <td>low</td>\n",
       "      <td>10</td>\n",
       "    </tr>\n",
       "    <tr>\n",
       "      <th>4</th>\n",
       "      <td>apple</td>\n",
       "      <td>high</td>\n",
       "      <td>3</td>\n",
       "      <td>apple</td>\n",
       "      <td>high</td>\n",
       "      <td>0</td>\n",
       "    </tr>\n",
       "    <tr>\n",
       "      <th>5</th>\n",
       "      <td>orange</td>\n",
       "      <td>low</td>\n",
       "      <td>3</td>\n",
       "      <td>orange</td>\n",
       "      <td>low</td>\n",
       "      <td>10</td>\n",
       "    </tr>\n",
       "  </tbody>\n",
       "</table>\n",
       "</div>"
      ],
      "text/plain": [
       "    fruit weight  price_x  pazham  kilo  price_y\n",
       "0   apple   high        9   apple  high        0\n",
       "1  orange    low       14  orange   low       10\n",
       "2   apple   high       14   apple  high        0\n",
       "3  orange    low        9  orange   low       10\n",
       "4   apple   high        3   apple  high        0\n",
       "5  orange    low        3  orange   low       10"
      ]
     },
     "execution_count": 52,
     "metadata": {},
     "output_type": "execute_result"
    }
   ],
   "source": [
    "df1 = pd.DataFrame({'fruit': ['apple', 'banana', 'orange'] * 3,\n",
    "                    'weight': ['high', 'medium', 'low'] * 3,\n",
    "                    'price': np.random.randint(0, 15, 9)})\n",
    "\n",
    "df2 = pd.DataFrame({'pazham': ['apple', 'orange', 'pine'] * 2,\n",
    "                    'kilo': ['high', 'low'] * 3,\n",
    "                    'price': np.random.randint(0, 15, 6)})\n",
    "\n",
    "pd.merge(df1, df2, left_on=['fruit','weight'], right_on=['pazham','kilo'])"
   ]
  },
  {
   "cell_type": "markdown",
   "id": "2872ec78-d839-439a-b293-c98dcd1ead35",
   "metadata": {},
   "source": [
    "## Упражнение № 70\n",
    "\n",
    "Создайте в `df` два новых столбца, один из них — `lag1` (сдвиг столбца `a` вниз на 1 строку) столбца 'a', а другой — `lead1` (сдвиг столбца `b` вверх на 1 строку).\n",
    "\n",
    "Пример входных данных:\n",
    "\n",
    "```python\n",
    "df = pd.DataFrame(np.random.randint(1, 100, 20).reshape(-1, 4), columns = list('abcd'))\n",
    "\n",
    "    a   b   c   d\n",
    "0  66  34  76  47\n",
    "1  20  86  10  81\n",
    "2  75  73  51  28\n",
    "3   1   1   9  83\n",
    "4  30  47  67   4\n",
    "```\n",
    "\n",
    "Пример выходных данных:\n",
    "\n",
    "```python\n",
    "    a   b   c   d  a_lag1  b_lead1\n",
    "0  66  34  76  47     NaN     86.0\n",
    "1  20  86  10  81    66.0     73.0\n",
    "2  75  73  51  28    20.0      1.0\n",
    "3   1   1   9  83    75.0     47.0\n",
    "4  30  47  67   4     1.0      NaN\n",
    "```"
   ]
  },
  {
   "cell_type": "code",
   "execution_count": 53,
   "id": "87dc4ec1-689a-4609-b87d-76d6ca31e77a",
   "metadata": {},
   "outputs": [
    {
     "data": {
      "text/html": [
       "<div>\n",
       "<style scoped>\n",
       "    .dataframe tbody tr th:only-of-type {\n",
       "        vertical-align: middle;\n",
       "    }\n",
       "\n",
       "    .dataframe tbody tr th {\n",
       "        vertical-align: top;\n",
       "    }\n",
       "\n",
       "    .dataframe thead th {\n",
       "        text-align: right;\n",
       "    }\n",
       "</style>\n",
       "<table border=\"1\" class=\"dataframe\">\n",
       "  <thead>\n",
       "    <tr style=\"text-align: right;\">\n",
       "      <th></th>\n",
       "      <th>a</th>\n",
       "      <th>b</th>\n",
       "      <th>c</th>\n",
       "      <th>d</th>\n",
       "      <th>lag1</th>\n",
       "      <th>lead1</th>\n",
       "    </tr>\n",
       "  </thead>\n",
       "  <tbody>\n",
       "    <tr>\n",
       "      <th>0</th>\n",
       "      <td>40</td>\n",
       "      <td>80</td>\n",
       "      <td>94</td>\n",
       "      <td>72</td>\n",
       "      <td>NaN</td>\n",
       "      <td>56.0000</td>\n",
       "    </tr>\n",
       "    <tr>\n",
       "      <th>1</th>\n",
       "      <td>52</td>\n",
       "      <td>56</td>\n",
       "      <td>56</td>\n",
       "      <td>44</td>\n",
       "      <td>40.0000</td>\n",
       "      <td>30.0000</td>\n",
       "    </tr>\n",
       "    <tr>\n",
       "      <th>2</th>\n",
       "      <td>82</td>\n",
       "      <td>30</td>\n",
       "      <td>86</td>\n",
       "      <td>98</td>\n",
       "      <td>52.0000</td>\n",
       "      <td>16.0000</td>\n",
       "    </tr>\n",
       "    <tr>\n",
       "      <th>3</th>\n",
       "      <td>73</td>\n",
       "      <td>16</td>\n",
       "      <td>25</td>\n",
       "      <td>45</td>\n",
       "      <td>82.0000</td>\n",
       "      <td>98.0000</td>\n",
       "    </tr>\n",
       "    <tr>\n",
       "      <th>4</th>\n",
       "      <td>21</td>\n",
       "      <td>98</td>\n",
       "      <td>63</td>\n",
       "      <td>79</td>\n",
       "      <td>73.0000</td>\n",
       "      <td>NaN</td>\n",
       "    </tr>\n",
       "  </tbody>\n",
       "</table>\n",
       "</div>"
      ],
      "text/plain": [
       "    a   b   c   d    lag1   lead1\n",
       "0  40  80  94  72     NaN 56.0000\n",
       "1  52  56  56  44 40.0000 30.0000\n",
       "2  82  30  86  98 52.0000 16.0000\n",
       "3  73  16  25  45 82.0000 98.0000\n",
       "4  21  98  63  79 73.0000     NaN"
      ]
     },
     "execution_count": 53,
     "metadata": {},
     "output_type": "execute_result"
    }
   ],
   "source": [
    "df = pd.DataFrame(np.random.randint(1, 100, 20).reshape(-1, 4), columns =list('abcd'))\n",
    "\n",
    "df['lag1'] = df['a'].shift(1)\n",
    "df['lead1'] = df['b'].shift(-1)\n",
    "df"
   ]
  },
  {
   "cell_type": "markdown",
   "id": "399f4f68-2eed-44a2-8b59-278b373d5945",
   "metadata": {},
   "source": [
    "## Упражнение № 71\n",
    "\n",
    "Получите частоты уникальных значений по всему датафрейму `df`.\n",
    "\n",
    "Пример входных данных:\n",
    "\n",
    "```python\n",
    "df = pd.DataFrame(np.random.randint(1, 10, 20).reshape(-1, 4), columns = list('abcd'))\n",
    "```"
   ]
  },
  {
   "cell_type": "code",
   "execution_count": 55,
   "id": "08d8feec-1495-4f5d-ac82-b0ef23b4c95d",
   "metadata": {},
   "outputs": [
    {
     "name": "stdout",
     "output_type": "stream",
     "text": [
      "\n",
      " Freq DataFrame:\n",
      "1    1\n",
      "2    3\n",
      "3    1\n",
      "4    4\n",
      "5    2\n",
      "6    5\n",
      "7    2\n",
      "8    1\n",
      "9    1\n",
      "Name: count, dtype: int64\n"
     ]
    }
   ],
   "source": [
    "df = pd.DataFrame(np.random.randint(1, 10, 20).reshape(-1, 4), columns=list('abcd'))\n",
    "\n",
    "print(\"\\n Freq DataFrame:\")\n",
    "print(df.stack().value_counts().sort_index())"
   ]
  },
  {
   "cell_type": "markdown",
   "id": "d0b0041e-ad8f-4715-b749-fd6f1086e6d7",
   "metadata": {},
   "source": [
    "## Упражнение № 72\n",
    "\n",
    "Разделите столбец `row` в `df` так, чтобы сформировать датафрейм с 3 столбцами, как показано в примере выходных данных. \n",
    "\n",
    "Пример входных данных:\n",
    "\n",
    "```python\n",
    "df = pd.DataFrame([\"STD, City    State\",\n",
    "\"33, Kolkata    West Bengal\",\n",
    "\"44, Chennai    Tamil Nadu\",\n",
    "\"40, Hyderabad    Telengana\",\n",
    "\"80, Bangalore    Karnataka\"], columns=['row'])\n",
    "\n",
    "print(df)\n",
    "#>                         row\n",
    "#> 0          STD, City\\tState\n",
    "#> 1  33, Kolkata\\tWest Bengal\n",
    "#> 2   44, Chennai\\tTamil Nadu\n",
    "#> 3  40, Hyderabad\\tTelengana\n",
    "#> 4  80, Bangalore\\tKarnataka\n",
    "```\n",
    "\n",
    "Пример выходных данных:\n",
    "\n",
    "```\n",
    "0 STD        City        State\n",
    "1  33     Kolkata  West Bengal\n",
    "2  44     Chennai   Tamil Nadu\n",
    "3  40   Hyderabad    Telengana\n",
    "4  80   Bangalore    Karnataka\n",
    "```\n"
   ]
  },
  {
   "cell_type": "code",
   "execution_count": 56,
   "id": "1be17b3c-756c-4fb9-9073-6abf2cd11e98",
   "metadata": {},
   "outputs": [
    {
     "data": {
      "text/html": [
       "<div>\n",
       "<style scoped>\n",
       "    .dataframe tbody tr th:only-of-type {\n",
       "        vertical-align: middle;\n",
       "    }\n",
       "\n",
       "    .dataframe tbody tr th {\n",
       "        vertical-align: top;\n",
       "    }\n",
       "\n",
       "    .dataframe thead th {\n",
       "        text-align: right;\n",
       "    }\n",
       "</style>\n",
       "<table border=\"1\" class=\"dataframe\">\n",
       "  <thead>\n",
       "    <tr style=\"text-align: right;\">\n",
       "      <th></th>\n",
       "      <th>STD</th>\n",
       "      <th>City</th>\n",
       "      <th>State</th>\n",
       "    </tr>\n",
       "  </thead>\n",
       "  <tbody>\n",
       "    <tr>\n",
       "      <th>1</th>\n",
       "      <td>33</td>\n",
       "      <td>Kolkata</td>\n",
       "      <td>West Bengal</td>\n",
       "    </tr>\n",
       "    <tr>\n",
       "      <th>2</th>\n",
       "      <td>44</td>\n",
       "      <td>Chennai</td>\n",
       "      <td>Tamil Nadu</td>\n",
       "    </tr>\n",
       "    <tr>\n",
       "      <th>3</th>\n",
       "      <td>40</td>\n",
       "      <td>Hyderabad</td>\n",
       "      <td>Telengana</td>\n",
       "    </tr>\n",
       "    <tr>\n",
       "      <th>4</th>\n",
       "      <td>80</td>\n",
       "      <td>Bangalore</td>\n",
       "      <td>Karnataka</td>\n",
       "    </tr>\n",
       "  </tbody>\n",
       "</table>\n",
       "</div>"
      ],
      "text/plain": [
       "0 STD       City        State\n",
       "1  33    Kolkata  West Bengal\n",
       "2  44    Chennai   Tamil Nadu\n",
       "3  40  Hyderabad    Telengana\n",
       "4  80  Bangalore    Karnataka"
      ]
     },
     "execution_count": 56,
     "metadata": {},
     "output_type": "execute_result"
    }
   ],
   "source": [
    "df = pd.DataFrame([\"STD, City\\tState\",\n",
    "                    \"33, Kolkata\\tWest Bengal\",\n",
    "                    \"44, Chennai\\tTamil Nadu\",\n",
    "                    \"40, Hyderabad\\tTelengana\",\n",
    "                    \"80, Bangalore\\tKarnataka\"], columns=['row'])\n",
    "\n",
    "df_split = df.row.str.split(', |\\t', expand=True)\n",
    "df_columns = df_split.iloc[0]\n",
    "df_split = df_split[1:]\n",
    "df_split.columns = df_columns\n",
    "\n",
    "df_split"
   ]
  },
  {
   "cell_type": "code",
   "execution_count": null,
   "id": "a68a2f72-e668-4a52-b338-b6f516036cbc",
   "metadata": {},
   "outputs": [],
   "source": []
  }
 ],
 "metadata": {
  "kernelspec": {
   "display_name": "Python 3 (ipykernel)",
   "language": "python",
   "name": "python3"
  },
  "language_info": {
   "codemirror_mode": {
    "name": "ipython",
    "version": 3
   },
   "file_extension": ".py",
   "mimetype": "text/x-python",
   "name": "python",
   "nbconvert_exporter": "python",
   "pygments_lexer": "ipython3",
   "version": "3.12.9"
  }
 },
 "nbformat": 4,
 "nbformat_minor": 5
}
